{
  "nbformat": 4,
  "nbformat_minor": 0,
  "metadata": {
    "colab": {
      "provenance": [],
      "machine_shape": "hm",
      "gpuType": "L4",
      "authorship_tag": "ABX9TyN1DF9ag5eWSV+c1+kzetXt",
      "include_colab_link": true
    },
    "kernelspec": {
      "name": "python3",
      "display_name": "Python 3"
    },
    "language_info": {
      "name": "python"
    },
    "accelerator": "GPU"
  },
  "cells": [
    {
      "cell_type": "markdown",
      "metadata": {
        "id": "view-in-github",
        "colab_type": "text"
      },
      "source": [
        "<a href=\"https://colab.research.google.com/github/KIMBUMJU/CV/blob/main/DNN_ImageClassification.ipynb\" target=\"_parent\"><img src=\"https://colab.research.google.com/assets/colab-badge.svg\" alt=\"Open In Colab\"/></a>"
      ]
    },
    {
      "cell_type": "markdown",
      "source": [
        "# FCNN 이용하여 MNIST 분류하기\n",
        "\n",
        "\n",
        "\n",
        "*   FCNN(Fully Connected Neuron Network) 이용하여 손글씨 MNIST 분류 진행\n",
        "*   입력 데이터셋: Keras Dataset MNIST\n",
        "*   이미지 분류 시 DNN을 사용\n",
        "\n"
      ],
      "metadata": {
        "id": "FiXBIOzeTg8O"
      }
    },
    {
      "cell_type": "markdown",
      "source": [
        "# **1. Import modules**"
      ],
      "metadata": {
        "id": "iixSH87AUuuN"
      }
    },
    {
      "cell_type": "code",
      "source": [
        "!pip install tensorflow==2.15.1"
      ],
      "metadata": {
        "colab": {
          "base_uri": "https://localhost:8080/"
        },
        "id": "KnBezaJVfb-M",
        "outputId": "3fdae5f8-48dd-4383-b69f-33e0b109100d"
      },
      "execution_count": 1,
      "outputs": [
        {
          "output_type": "stream",
          "name": "stdout",
          "text": [
            "Collecting tensorflow==2.15.1\n",
            "  Downloading tensorflow-2.15.1-cp310-cp310-manylinux_2_17_x86_64.manylinux2014_x86_64.whl (475.2 MB)\n",
            "\u001b[2K     \u001b[90m━━━━━━━━━━━━━━━━━━━━━━━━━━━━━━━━━━━━━━━━\u001b[0m \u001b[32m475.2/475.2 MB\u001b[0m \u001b[31m3.1 MB/s\u001b[0m eta \u001b[36m0:00:00\u001b[0m\n",
            "\u001b[?25hRequirement already satisfied: absl-py>=1.0.0 in /usr/local/lib/python3.10/dist-packages (from tensorflow==2.15.1) (1.4.0)\n",
            "Requirement already satisfied: astunparse>=1.6.0 in /usr/local/lib/python3.10/dist-packages (from tensorflow==2.15.1) (1.6.3)\n",
            "Requirement already satisfied: flatbuffers>=23.5.26 in /usr/local/lib/python3.10/dist-packages (from tensorflow==2.15.1) (24.3.25)\n",
            "Requirement already satisfied: gast!=0.5.0,!=0.5.1,!=0.5.2,>=0.2.1 in /usr/local/lib/python3.10/dist-packages (from tensorflow==2.15.1) (0.6.0)\n",
            "Requirement already satisfied: google-pasta>=0.1.1 in /usr/local/lib/python3.10/dist-packages (from tensorflow==2.15.1) (0.2.0)\n",
            "Requirement already satisfied: h5py>=2.9.0 in /usr/local/lib/python3.10/dist-packages (from tensorflow==2.15.1) (3.9.0)\n",
            "Requirement already satisfied: libclang>=13.0.0 in /usr/local/lib/python3.10/dist-packages (from tensorflow==2.15.1) (18.1.1)\n",
            "Collecting ml-dtypes~=0.3.1 (from tensorflow==2.15.1)\n",
            "  Downloading ml_dtypes-0.3.2-cp310-cp310-manylinux_2_17_x86_64.manylinux2014_x86_64.whl (2.2 MB)\n",
            "\u001b[2K     \u001b[90m━━━━━━━━━━━━━━━━━━━━━━━━━━━━━━━━━━━━━━━━\u001b[0m \u001b[32m2.2/2.2 MB\u001b[0m \u001b[31m98.0 MB/s\u001b[0m eta \u001b[36m0:00:00\u001b[0m\n",
            "\u001b[?25hRequirement already satisfied: numpy<2.0.0,>=1.23.5 in /usr/local/lib/python3.10/dist-packages (from tensorflow==2.15.1) (1.25.2)\n",
            "Requirement already satisfied: opt-einsum>=2.3.2 in /usr/local/lib/python3.10/dist-packages (from tensorflow==2.15.1) (3.3.0)\n",
            "Requirement already satisfied: packaging in /usr/local/lib/python3.10/dist-packages (from tensorflow==2.15.1) (24.1)\n",
            "Requirement already satisfied: protobuf!=4.21.0,!=4.21.1,!=4.21.2,!=4.21.3,!=4.21.4,!=4.21.5,<5.0.0dev,>=3.20.3 in /usr/local/lib/python3.10/dist-packages (from tensorflow==2.15.1) (3.20.3)\n",
            "Requirement already satisfied: setuptools in /usr/local/lib/python3.10/dist-packages (from tensorflow==2.15.1) (67.7.2)\n",
            "Requirement already satisfied: six>=1.12.0 in /usr/local/lib/python3.10/dist-packages (from tensorflow==2.15.1) (1.16.0)\n",
            "Requirement already satisfied: termcolor>=1.1.0 in /usr/local/lib/python3.10/dist-packages (from tensorflow==2.15.1) (2.4.0)\n",
            "Requirement already satisfied: typing-extensions>=3.6.6 in /usr/local/lib/python3.10/dist-packages (from tensorflow==2.15.1) (4.12.2)\n",
            "Requirement already satisfied: wrapt<1.15,>=1.11.0 in /usr/local/lib/python3.10/dist-packages (from tensorflow==2.15.1) (1.14.1)\n",
            "Requirement already satisfied: tensorflow-io-gcs-filesystem>=0.23.1 in /usr/local/lib/python3.10/dist-packages (from tensorflow==2.15.1) (0.37.1)\n",
            "Requirement already satisfied: grpcio<2.0,>=1.24.3 in /usr/local/lib/python3.10/dist-packages (from tensorflow==2.15.1) (1.64.1)\n",
            "Requirement already satisfied: tensorboard<2.16,>=2.15 in /usr/local/lib/python3.10/dist-packages (from tensorflow==2.15.1) (2.15.2)\n",
            "Requirement already satisfied: tensorflow-estimator<2.16,>=2.15.0 in /usr/local/lib/python3.10/dist-packages (from tensorflow==2.15.1) (2.15.0)\n",
            "Requirement already satisfied: keras<2.16,>=2.15.0 in /usr/local/lib/python3.10/dist-packages (from tensorflow==2.15.1) (2.15.0)\n",
            "Requirement already satisfied: wheel<1.0,>=0.23.0 in /usr/local/lib/python3.10/dist-packages (from astunparse>=1.6.0->tensorflow==2.15.1) (0.43.0)\n",
            "Requirement already satisfied: google-auth<3,>=1.6.3 in /usr/local/lib/python3.10/dist-packages (from tensorboard<2.16,>=2.15->tensorflow==2.15.1) (2.27.0)\n",
            "Requirement already satisfied: google-auth-oauthlib<2,>=0.5 in /usr/local/lib/python3.10/dist-packages (from tensorboard<2.16,>=2.15->tensorflow==2.15.1) (1.2.1)\n",
            "Requirement already satisfied: markdown>=2.6.8 in /usr/local/lib/python3.10/dist-packages (from tensorboard<2.16,>=2.15->tensorflow==2.15.1) (3.6)\n",
            "Requirement already satisfied: requests<3,>=2.21.0 in /usr/local/lib/python3.10/dist-packages (from tensorboard<2.16,>=2.15->tensorflow==2.15.1) (2.31.0)\n",
            "Requirement already satisfied: tensorboard-data-server<0.8.0,>=0.7.0 in /usr/local/lib/python3.10/dist-packages (from tensorboard<2.16,>=2.15->tensorflow==2.15.1) (0.7.2)\n",
            "Requirement already satisfied: werkzeug>=1.0.1 in /usr/local/lib/python3.10/dist-packages (from tensorboard<2.16,>=2.15->tensorflow==2.15.1) (3.0.3)\n",
            "Requirement already satisfied: cachetools<6.0,>=2.0.0 in /usr/local/lib/python3.10/dist-packages (from google-auth<3,>=1.6.3->tensorboard<2.16,>=2.15->tensorflow==2.15.1) (5.3.3)\n",
            "Requirement already satisfied: pyasn1-modules>=0.2.1 in /usr/local/lib/python3.10/dist-packages (from google-auth<3,>=1.6.3->tensorboard<2.16,>=2.15->tensorflow==2.15.1) (0.4.0)\n",
            "Requirement already satisfied: rsa<5,>=3.1.4 in /usr/local/lib/python3.10/dist-packages (from google-auth<3,>=1.6.3->tensorboard<2.16,>=2.15->tensorflow==2.15.1) (4.9)\n",
            "Requirement already satisfied: requests-oauthlib>=0.7.0 in /usr/local/lib/python3.10/dist-packages (from google-auth-oauthlib<2,>=0.5->tensorboard<2.16,>=2.15->tensorflow==2.15.1) (1.3.1)\n",
            "Requirement already satisfied: charset-normalizer<4,>=2 in /usr/local/lib/python3.10/dist-packages (from requests<3,>=2.21.0->tensorboard<2.16,>=2.15->tensorflow==2.15.1) (3.3.2)\n",
            "Requirement already satisfied: idna<4,>=2.5 in /usr/local/lib/python3.10/dist-packages (from requests<3,>=2.21.0->tensorboard<2.16,>=2.15->tensorflow==2.15.1) (3.7)\n",
            "Requirement already satisfied: urllib3<3,>=1.21.1 in /usr/local/lib/python3.10/dist-packages (from requests<3,>=2.21.0->tensorboard<2.16,>=2.15->tensorflow==2.15.1) (2.0.7)\n",
            "Requirement already satisfied: certifi>=2017.4.17 in /usr/local/lib/python3.10/dist-packages (from requests<3,>=2.21.0->tensorboard<2.16,>=2.15->tensorflow==2.15.1) (2024.7.4)\n",
            "Requirement already satisfied: MarkupSafe>=2.1.1 in /usr/local/lib/python3.10/dist-packages (from werkzeug>=1.0.1->tensorboard<2.16,>=2.15->tensorflow==2.15.1) (2.1.5)\n",
            "Requirement already satisfied: pyasn1<0.7.0,>=0.4.6 in /usr/local/lib/python3.10/dist-packages (from pyasn1-modules>=0.2.1->google-auth<3,>=1.6.3->tensorboard<2.16,>=2.15->tensorflow==2.15.1) (0.6.0)\n",
            "Requirement already satisfied: oauthlib>=3.0.0 in /usr/local/lib/python3.10/dist-packages (from requests-oauthlib>=0.7.0->google-auth-oauthlib<2,>=0.5->tensorboard<2.16,>=2.15->tensorflow==2.15.1) (3.2.2)\n",
            "Installing collected packages: ml-dtypes, tensorflow\n",
            "  Attempting uninstall: ml-dtypes\n",
            "    Found existing installation: ml-dtypes 0.2.0\n",
            "    Uninstalling ml-dtypes-0.2.0:\n",
            "      Successfully uninstalled ml-dtypes-0.2.0\n",
            "  Attempting uninstall: tensorflow\n",
            "    Found existing installation: tensorflow 2.15.0\n",
            "    Uninstalling tensorflow-2.15.0:\n",
            "      Successfully uninstalled tensorflow-2.15.0\n",
            "Successfully installed ml-dtypes-0.3.2 tensorflow-2.15.1\n"
          ]
        }
      ]
    },
    {
      "cell_type": "code",
      "execution_count": 2,
      "metadata": {
        "id": "3wRbJSy0TWGa"
      },
      "outputs": [],
      "source": [
        "import tensorflow as tf\n",
        "import numpy as np\n",
        "import pandas as pd\n",
        "import matplotlib.pyplot as plt"
      ]
    },
    {
      "cell_type": "code",
      "source": [
        "print(\"TensorFlow version:\", tf.__version__)"
      ],
      "metadata": {
        "colab": {
          "base_uri": "https://localhost:8080/"
        },
        "id": "dAK_KSLRofS8",
        "outputId": "c39347b8-0f98-44f7-cf67-61fe284dcb9a"
      },
      "execution_count": 3,
      "outputs": [
        {
          "output_type": "stream",
          "name": "stdout",
          "text": [
            "TensorFlow version: 2.15.1\n"
          ]
        }
      ]
    },
    {
      "cell_type": "markdown",
      "source": [
        "# **2. 데이터 불러오기**"
      ],
      "metadata": {
        "id": "DBr2NhCbVuTH"
      }
    },
    {
      "cell_type": "code",
      "source": [
        "mnist = tf.keras.datasets.mnist\n",
        "(x_train, y_train), (x_test, y_test) = mnist.load_data()\n",
        "x_train, x_test = x_train / 255.0, x_test / 255.0\n",
        "# 이미지 화소값은 0~255. 고로 255로 나눠주면 0~1로 스케일 변환됨"
      ],
      "metadata": {
        "colab": {
          "base_uri": "https://localhost:8080/"
        },
        "id": "h2rD4u0HWOcp",
        "outputId": "7a6539b7-a90a-4632-9f18-9fedb1a4c386"
      },
      "execution_count": 4,
      "outputs": [
        {
          "output_type": "stream",
          "name": "stdout",
          "text": [
            "Downloading data from https://storage.googleapis.com/tensorflow/tf-keras-datasets/mnist.npz\n",
            "11490434/11490434 [==============================] - 2s 0us/step\n"
          ]
        }
      ]
    },
    {
      "cell_type": "code",
      "source": [
        "# 3차원 배열\n",
        "# x_train: 60000개의 샘플이 있고 각각 28*28 픽셀 사이즈의 이미지\n",
        "# x_test: 10000개의 샘플이 있고 각각 28*28 픽셀 사이즈의 이미지\n",
        "\n",
        "x_train.shape, x_test.shape"
      ],
      "metadata": {
        "colab": {
          "base_uri": "https://localhost:8080/"
        },
        "id": "XscWITvaYWXl",
        "outputId": "56cad785-a731-4cef-a65d-c6d0323a03dc"
      },
      "execution_count": 5,
      "outputs": [
        {
          "output_type": "execute_result",
          "data": {
            "text/plain": [
              "((60000, 28, 28), (10000, 28, 28))"
            ]
          },
          "metadata": {},
          "execution_count": 5
        }
      ]
    },
    {
      "cell_type": "code",
      "source": [
        "y_train.shape, y_test.shape"
      ],
      "metadata": {
        "colab": {
          "base_uri": "https://localhost:8080/"
        },
        "id": "whOLIaFUjJv3",
        "outputId": "2dff36b2-11ef-428d-9811-bf0972ae1f48"
      },
      "execution_count": 6,
      "outputs": [
        {
          "output_type": "execute_result",
          "data": {
            "text/plain": [
              "((60000,), (10000,))"
            ]
          },
          "metadata": {},
          "execution_count": 6
        }
      ]
    },
    {
      "cell_type": "markdown",
      "source": [
        "# **3. FCNN 모델 구성**\n",
        "\n",
        "\n",
        "*   FCNN 입력 구조: 2차원(Batch * row)\n",
        "*   이미지 입력 데이터를 일렬로 쭉 펴서 모델에 주어야 하므로 Flatten 함수를 사용\n",
        "\n"
      ],
      "metadata": {
        "id": "25u-b7V9YlTd"
      }
    },
    {
      "cell_type": "code",
      "source": [
        "model = tf.keras.models.Sequential([\n",
        "    tf.keras.layers.Flatten(input_shape=(28, 28)),\n",
        "    tf.keras.layers.Dense(128, activation='relu'),\n",
        "    tf.keras.layers.Dropout(0.2),\n",
        "    tf.keras.layers.Dense(10, activation='softmax'),\n",
        "])"
      ],
      "metadata": {
        "id": "YLFElmLVYb5A"
      },
      "execution_count": 7,
      "outputs": []
    },
    {
      "cell_type": "markdown",
      "source": [
        "\n",
        "\n",
        "\n",
        "\n",
        "1.   Sequential 모델: 레이어를 순차적으로 쌓을 수 있는 모델 생성. 입력 레이어부터 출력 레이어까지 순차적으로 레이어를 추가.\n",
        "2.   Flatten 레이어: 입력 이미지를 1차원 벡터로 변환함\n",
        "    * input_shape=(28, 28): 입력 데이터의 형상을 정의. 이 모델은 28*28 크기의 2차원 이미지 입력 받음.\n",
        "    * 입력 데이터를 신경망의 Dense 레이어로 전달하기 위해 필요한 전처리 과정 수행.\n",
        "3.   Dense 레이어: 밀집 연결(fully connected) 레이어. 128개의 뉴런을 갖고 각 뉴런은 이전 레이어의 모든 입력과 연결됨.\n",
        "4.   Dropout 레이어: 과적합 방지를 위해 신경망의 일부 뉴런을 무작위로 비활성화함.\n",
        "    * 0.2: 드롭아웃 비율을 0.2로 설정. 이는 20%의 뉴런을 비활성화하는 것을 의미함.\n",
        "    * 드롭아웃은 학습 시기에만 적용됨. 평가 또는 예측 시에는 모든 뉴런 활성화.\n",
        "5. 두번째 Dense 레이어: 출력 레이어. 10개의 뉴런을 갖고 있으며, 각 뉴런은 하나의 클래스에 해당함. 10개의 뉴런은 0~9 사이의 숫자를 예측하는 데 사용됨.\n",
        "     * activation = 'softmax': 활성화 함수로 소프트맥스 사용.\n",
        "     * 소프트맥스 함수는 각 클래스에 대한 확률을 출력. 이 출력값은 각 클래스에 대한 확률로 변환되며, 모든 확률의 합은 1이 됨.\n",
        "     * 이 활성화 함수는 다중 클래스 분류 문제에 적합.\n",
        "\n",
        "\n",
        "\n",
        "\n",
        "\n",
        "\n",
        "\n",
        "\n",
        "\n"
      ],
      "metadata": {
        "id": "WTdaKUlOZYVB"
      }
    },
    {
      "cell_type": "markdown",
      "source": [
        "# **4. 모델 Compile**"
      ],
      "metadata": {
        "id": "-qrmyzcff9SZ"
      }
    },
    {
      "cell_type": "code",
      "source": [
        "model.compile(\n",
        "    optimizer='adam',\n",
        "    loss='sparse_categorical_crossentropy',\n",
        "    metrics=['accuracy'],\n",
        ")\n",
        "model.summary()"
      ],
      "metadata": {
        "colab": {
          "base_uri": "https://localhost:8080/"
        },
        "id": "dDP_FN8VYiDF",
        "outputId": "86898a7c-7f34-4a8d-8dd3-610b0d1a03db"
      },
      "execution_count": 8,
      "outputs": [
        {
          "output_type": "stream",
          "name": "stdout",
          "text": [
            "Model: \"sequential\"\n",
            "_________________________________________________________________\n",
            " Layer (type)                Output Shape              Param #   \n",
            "=================================================================\n",
            " flatten (Flatten)           (None, 784)               0         \n",
            "                                                                 \n",
            " dense (Dense)               (None, 128)               100480    \n",
            "                                                                 \n",
            " dropout (Dropout)           (None, 128)               0         \n",
            "                                                                 \n",
            " dense_1 (Dense)             (None, 10)                1290      \n",
            "                                                                 \n",
            "=================================================================\n",
            "Total params: 101770 (397.54 KB)\n",
            "Trainable params: 101770 (397.54 KB)\n",
            "Non-trainable params: 0 (0.00 Byte)\n",
            "_________________________________________________________________\n"
          ]
        }
      ]
    },
    {
      "cell_type": "markdown",
      "source": [
        "\n",
        "\n",
        "*   Output Shape의 첫 번째 값이 'None'으로 표시되는 이유: 해당 차원이 배치 크기(batch size)를 나타내기 때문. 배치 크기는 모델 컴파일 또는 학습 시에 정해지며, 모델 구조에서 미리 정해지지 않기 때문에 'None'으로 표시됨\n",
        "\n",
        "---\n",
        "\n",
        "1.   flatten_1 (Flatten): 784는 펼쳐진 입력 이미지의 총 픽셀 수(28*28)\n",
        "2.   dense_2 (Dense): 128은 이 레이어의 유닛 수로, 각 샘플에 대해 128차원 벡터를 출력\n",
        "3.   dropout_1 (Dropout): 드롭아웃 레이어는 입력 크기를 변경하지 않으므로 출력 형태는 이전 레이어와 동일\n",
        "4.   dense_3 (Dense): 10은 이 레이어의 유닛 수로, 각 샘플에 대해 10차원 벡터를 출력. 이는 10개 클래스에 대한 확률을 나타냄\n",
        "\n",
        "\n"
      ],
      "metadata": {
        "id": "6m3qEfAVWZXC"
      }
    },
    {
      "cell_type": "markdown",
      "source": [
        "# **5. 학습 수행**"
      ],
      "metadata": {
        "id": "fEfY2o_rjYhB"
      }
    },
    {
      "cell_type": "code",
      "source": [
        "EPOCH = 50\n",
        "BATCH_SIZE = 1024"
      ],
      "metadata": {
        "id": "5YN4THoujXTC"
      },
      "execution_count": 9,
      "outputs": []
    },
    {
      "cell_type": "markdown",
      "source": [
        "\n",
        "\n",
        "*   EPOCH: 전체 데이터셋에 대해 순전파와 역전파 과정이 완료된 횟수를 의미. 각 에포크마다 모든 데이터셋이 모델에 한 번씩 전달되고, 모델의 가중치가 업데이트됨.\n",
        "    * EPOCH = 50: 전체 데이터셋을 50번 반복하여 학습. 모델은 50번의 전체 데이터셋 학습을 진행함.\n",
        "*   BATCH_SIZE: 한 번에 모델이 학습하는 데이터의 샘플 수를 결정. 한 번에 전체 데이터셋을 사용하지 않고, 작은 배치 단위로 데이터를 나누어 학습하는 방식. 배치 크기가 클수록 더 많은 메모리가 요구되지만, 계산이 더 효율적으로 수행될 수 있음.\n",
        "    * BATCH_SIZE = 1024: 한 번의 배치에 1024개의 데이터 포인트가 사용됨. 모델은 1024개의 데이터 샘플을 한 번에 처리하고, 이에 대한 손실을 계산하고 역전파를 통해 가중치를 업데이트함.\n",
        "\n"
      ],
      "metadata": {
        "id": "KDZKKiEyem94"
      }
    },
    {
      "cell_type": "code",
      "source": [
        "from tensorflow import keras\n",
        "from keras.callbacks import EarlyStopping, ModelCheckpoint"
      ],
      "metadata": {
        "id": "m3_dOANojh72"
      },
      "execution_count": 10,
      "outputs": []
    },
    {
      "cell_type": "code",
      "source": [
        "es = EarlyStopping(monitor='val_loss', patience = 4, verbose=1)\n",
        "mc = ModelCheckpoint('best_model.h5', monitor='val_accuracy', mode='max', save_best_only='True', verbose=1)"
      ],
      "metadata": {
        "id": "8K_u1Gu1jh-f"
      },
      "execution_count": 11,
      "outputs": []
    },
    {
      "cell_type": "markdown",
      "source": [
        "\n",
        "\n",
        "* EarlyStopping: 모델 학습을 조기에 중단시키는 콜백. 과적합 방지하고, 불필요한 계산을 줄임.\n",
        "    * monitor = 'val_loss': 검증 손실('val_loss')을 모니터링함. 즉, 검증 데이터에 대한 손실 값을 관찰함.\n",
        "    * patience = 4: 개선이 없는 에포크 수를 지정. 여기서는 4 에포크 동안 검증 손실('val_loss')이 개선되지 않으면 학습을 중단.\n",
        "    * verbose = 1: 학습 중단 시 로그를 출력. 1로 설정하면 학습이 중단될 때 메세지가 출력됨.\n",
        "* ModelCheckpoint: 모델의 체크포인트를 저장하는 콜백. 모델 학습 중 지정한 조건이 만족되면 모델의 가중치를 파일에 저장.\n",
        "    * 'best_model.h5': 최적의 모델 가중치를 저장할 파일 이름을 지정. 여기서는 'best_model.h5' 파일에 저장함.\n",
        "    * monitor = 'val_accuracy': 검증 정확도('val_accuracy')를 모니터링함. 즉, 검증 데이터에 대한 정확도 값을 관찰\n",
        "    * mode = 'max': 모니터링할 지표('val_accuracy')를 최대화하는 방향으로 체크포인트를 저장. 검증 정확도가 최고값을 갱신할 때마다 모델을 저장. mode는 'min', 'max', 'auto' 중 하나로 설정.\n",
        "    * save_best_only = 'true': true로 설정하면, 최적의 모델(여기서는 검증 정확도가 최고인 모델)만 저장. False로 설정할 시, 매 에포크마다 모델을 저장.\n",
        "\n",
        "\n"
      ],
      "metadata": {
        "id": "QdZPqdQbgT82"
      }
    },
    {
      "cell_type": "code",
      "source": [
        "history = model.fit(x_train, y_train, epochs=EPOCH, batch_size=BATCH_SIZE, callbacks=[es, mc], validation_data=(x_test, y_test))"
      ],
      "metadata": {
        "colab": {
          "base_uri": "https://localhost:8080/"
        },
        "id": "35KNuJ9xjiDJ",
        "outputId": "99429d5d-5f12-437c-a87b-296f478fe644"
      },
      "execution_count": 12,
      "outputs": [
        {
          "output_type": "stream",
          "name": "stdout",
          "text": [
            "Epoch 1/50\n",
            "57/59 [===========================>..] - ETA: 0s - loss: 0.8759 - accuracy: 0.7546\n",
            "Epoch 1: val_accuracy improved from -inf to 0.90240, saving model to best_model.h5\n",
            "59/59 [==============================] - 3s 10ms/step - loss: 0.8634 - accuracy: 0.7582 - val_loss: 0.3511 - val_accuracy: 0.9024\n",
            "Epoch 2/50\n",
            "44/59 [=====================>........] - ETA: 0s - loss: 0.3627 - accuracy: 0.8958"
          ]
        },
        {
          "output_type": "stream",
          "name": "stderr",
          "text": [
            "/usr/local/lib/python3.10/dist-packages/keras/src/engine/training.py:3103: UserWarning: You are saving your model as an HDF5 file via `model.save()`. This file format is considered legacy. We recommend using instead the native Keras format, e.g. `model.save('my_model.keras')`.\n",
            "  saving_api.save_model(\n"
          ]
        },
        {
          "output_type": "stream",
          "name": "stdout",
          "text": [
            "\b\b\b\b\b\b\b\b\b\b\b\b\b\b\b\b\b\b\b\b\b\b\b\b\b\b\b\b\b\b\b\b\b\b\b\b\b\b\b\b\b\b\b\b\b\b\b\b\b\b\b\b\b\b\b\b\b\b\b\b\b\b\b\b\b\b\b\b\b\b\b\b\b\b\b\b\b\b\b\b\b\b\r57/59 [===========================>..] - ETA: 0s - loss: 0.3516 - accuracy: 0.8994\n",
            "Epoch 2: val_accuracy improved from 0.90240 to 0.92650, saving model to best_model.h5\n",
            "59/59 [==============================] - 0s 5ms/step - loss: 0.3511 - accuracy: 0.8995 - val_loss: 0.2636 - val_accuracy: 0.9265\n",
            "Epoch 3/50\n",
            "46/59 [======================>.......] - ETA: 0s - loss: 0.2838 - accuracy: 0.9196\n",
            "Epoch 3: val_accuracy improved from 0.92650 to 0.93780, saving model to best_model.h5\n",
            "59/59 [==============================] - 0s 4ms/step - loss: 0.2787 - accuracy: 0.9209 - val_loss: 0.2189 - val_accuracy: 0.9378\n",
            "Epoch 4/50\n",
            "49/59 [=======================>......] - ETA: 0s - loss: 0.2414 - accuracy: 0.9315\n",
            "Epoch 4: val_accuracy improved from 0.93780 to 0.94310, saving model to best_model.h5\n",
            "59/59 [==============================] - 0s 4ms/step - loss: 0.2384 - accuracy: 0.9323 - val_loss: 0.1955 - val_accuracy: 0.9431\n",
            "Epoch 5/50\n",
            "50/59 [========================>.....] - ETA: 0s - loss: 0.2134 - accuracy: 0.9389\n",
            "Epoch 5: val_accuracy improved from 0.94310 to 0.94920, saving model to best_model.h5\n",
            "59/59 [==============================] - 0s 4ms/step - loss: 0.2102 - accuracy: 0.9397 - val_loss: 0.1768 - val_accuracy: 0.9492\n",
            "Epoch 6/50\n",
            "49/59 [=======================>......] - ETA: 0s - loss: 0.1932 - accuracy: 0.9451\n",
            "Epoch 6: val_accuracy improved from 0.94920 to 0.95340, saving model to best_model.h5\n",
            "59/59 [==============================] - 0s 4ms/step - loss: 0.1903 - accuracy: 0.9460 - val_loss: 0.1613 - val_accuracy: 0.9534\n",
            "Epoch 7/50\n",
            "49/59 [=======================>......] - ETA: 0s - loss: 0.1749 - accuracy: 0.9507\n",
            "Epoch 7: val_accuracy improved from 0.95340 to 0.95690, saving model to best_model.h5\n",
            "59/59 [==============================] - 0s 4ms/step - loss: 0.1742 - accuracy: 0.9509 - val_loss: 0.1472 - val_accuracy: 0.9569\n",
            "Epoch 8/50\n",
            "49/59 [=======================>......] - ETA: 0s - loss: 0.1612 - accuracy: 0.9527\n",
            "Epoch 8: val_accuracy improved from 0.95690 to 0.95910, saving model to best_model.h5\n",
            "59/59 [==============================] - 0s 4ms/step - loss: 0.1610 - accuracy: 0.9528 - val_loss: 0.1379 - val_accuracy: 0.9591\n",
            "Epoch 9/50\n",
            "49/59 [=======================>......] - ETA: 0s - loss: 0.1491 - accuracy: 0.9574\n",
            "Epoch 9: val_accuracy improved from 0.95910 to 0.96180, saving model to best_model.h5\n",
            "59/59 [==============================] - 0s 4ms/step - loss: 0.1473 - accuracy: 0.9579 - val_loss: 0.1291 - val_accuracy: 0.9618\n",
            "Epoch 10/50\n",
            "48/59 [=======================>......] - ETA: 0s - loss: 0.1418 - accuracy: 0.9590\n",
            "Epoch 10: val_accuracy improved from 0.96180 to 0.96430, saving model to best_model.h5\n",
            "59/59 [==============================] - 0s 4ms/step - loss: 0.1410 - accuracy: 0.9594 - val_loss: 0.1224 - val_accuracy: 0.9643\n",
            "Epoch 11/50\n",
            "49/59 [=======================>......] - ETA: 0s - loss: 0.1325 - accuracy: 0.9612\n",
            "Epoch 11: val_accuracy improved from 0.96430 to 0.96550, saving model to best_model.h5\n",
            "59/59 [==============================] - 0s 4ms/step - loss: 0.1311 - accuracy: 0.9621 - val_loss: 0.1170 - val_accuracy: 0.9655\n",
            "Epoch 12/50\n",
            "49/59 [=======================>......] - ETA: 0s - loss: 0.1229 - accuracy: 0.9649\n",
            "Epoch 12: val_accuracy improved from 0.96550 to 0.96590, saving model to best_model.h5\n",
            "59/59 [==============================] - 0s 4ms/step - loss: 0.1220 - accuracy: 0.9650 - val_loss: 0.1125 - val_accuracy: 0.9659\n",
            "Epoch 13/50\n",
            "49/59 [=======================>......] - ETA: 0s - loss: 0.1149 - accuracy: 0.9664\n",
            "Epoch 13: val_accuracy improved from 0.96590 to 0.96810, saving model to best_model.h5\n",
            "59/59 [==============================] - 0s 4ms/step - loss: 0.1152 - accuracy: 0.9661 - val_loss: 0.1057 - val_accuracy: 0.9681\n",
            "Epoch 14/50\n",
            "47/59 [======================>.......] - ETA: 0s - loss: 0.1081 - accuracy: 0.9686\n",
            "Epoch 14: val_accuracy did not improve from 0.96810\n",
            "59/59 [==============================] - 0s 4ms/step - loss: 0.1073 - accuracy: 0.9689 - val_loss: 0.1035 - val_accuracy: 0.9673\n",
            "Epoch 15/50\n",
            "50/59 [========================>.....] - ETA: 0s - loss: 0.1013 - accuracy: 0.9709\n",
            "Epoch 15: val_accuracy improved from 0.96810 to 0.96900, saving model to best_model.h5\n",
            "59/59 [==============================] - 0s 4ms/step - loss: 0.1023 - accuracy: 0.9705 - val_loss: 0.1014 - val_accuracy: 0.9690\n",
            "Epoch 16/50\n",
            "50/59 [========================>.....] - ETA: 0s - loss: 0.1012 - accuracy: 0.9703\n",
            "Epoch 16: val_accuracy improved from 0.96900 to 0.97020, saving model to best_model.h5\n",
            "59/59 [==============================] - 0s 4ms/step - loss: 0.0997 - accuracy: 0.9707 - val_loss: 0.0947 - val_accuracy: 0.9702\n",
            "Epoch 17/50\n",
            "49/59 [=======================>......] - ETA: 0s - loss: 0.0922 - accuracy: 0.9736\n",
            "Epoch 17: val_accuracy improved from 0.97020 to 0.97120, saving model to best_model.h5\n",
            "59/59 [==============================] - 0s 4ms/step - loss: 0.0936 - accuracy: 0.9730 - val_loss: 0.0923 - val_accuracy: 0.9712\n",
            "Epoch 18/50\n",
            "49/59 [=======================>......] - ETA: 0s - loss: 0.0894 - accuracy: 0.9739\n",
            "Epoch 18: val_accuracy improved from 0.97120 to 0.97140, saving model to best_model.h5\n",
            "59/59 [==============================] - 0s 4ms/step - loss: 0.0887 - accuracy: 0.9742 - val_loss: 0.0916 - val_accuracy: 0.9714\n",
            "Epoch 19/50\n",
            "50/59 [========================>.....] - ETA: 0s - loss: 0.0830 - accuracy: 0.9753\n",
            "Epoch 19: val_accuracy improved from 0.97140 to 0.97250, saving model to best_model.h5\n",
            "59/59 [==============================] - 0s 4ms/step - loss: 0.0837 - accuracy: 0.9750 - val_loss: 0.0892 - val_accuracy: 0.9725\n",
            "Epoch 20/50\n",
            "50/59 [========================>.....] - ETA: 0s - loss: 0.0800 - accuracy: 0.9764\n",
            "Epoch 20: val_accuracy did not improve from 0.97250\n",
            "59/59 [==============================] - 0s 4ms/step - loss: 0.0804 - accuracy: 0.9764 - val_loss: 0.0870 - val_accuracy: 0.9725\n",
            "Epoch 21/50\n",
            "52/59 [=========================>....] - ETA: 0s - loss: 0.0764 - accuracy: 0.9770\n",
            "Epoch 21: val_accuracy improved from 0.97250 to 0.97390, saving model to best_model.h5\n",
            "59/59 [==============================] - 0s 4ms/step - loss: 0.0763 - accuracy: 0.9771 - val_loss: 0.0843 - val_accuracy: 0.9739\n",
            "Epoch 22/50\n",
            "49/59 [=======================>......] - ETA: 0s - loss: 0.0733 - accuracy: 0.9775\n",
            "Epoch 22: val_accuracy improved from 0.97390 to 0.97470, saving model to best_model.h5\n",
            "59/59 [==============================] - 0s 4ms/step - loss: 0.0738 - accuracy: 0.9775 - val_loss: 0.0826 - val_accuracy: 0.9747\n",
            "Epoch 23/50\n",
            "49/59 [=======================>......] - ETA: 0s - loss: 0.0699 - accuracy: 0.9797\n",
            "Epoch 23: val_accuracy did not improve from 0.97470\n",
            "59/59 [==============================] - 0s 4ms/step - loss: 0.0702 - accuracy: 0.9794 - val_loss: 0.0806 - val_accuracy: 0.9744\n",
            "Epoch 24/50\n",
            "49/59 [=======================>......] - ETA: 0s - loss: 0.0694 - accuracy: 0.9793\n",
            "Epoch 24: val_accuracy improved from 0.97470 to 0.97530, saving model to best_model.h5\n",
            "59/59 [==============================] - 0s 4ms/step - loss: 0.0695 - accuracy: 0.9793 - val_loss: 0.0791 - val_accuracy: 0.9753\n",
            "Epoch 25/50\n",
            "49/59 [=======================>......] - ETA: 0s - loss: 0.0664 - accuracy: 0.9805\n",
            "Epoch 25: val_accuracy improved from 0.97530 to 0.97560, saving model to best_model.h5\n",
            "59/59 [==============================] - 0s 4ms/step - loss: 0.0669 - accuracy: 0.9804 - val_loss: 0.0776 - val_accuracy: 0.9756\n",
            "Epoch 26/50\n",
            "49/59 [=======================>......] - ETA: 0s - loss: 0.0633 - accuracy: 0.9808\n",
            "Epoch 26: val_accuracy did not improve from 0.97560\n",
            "59/59 [==============================] - 0s 4ms/step - loss: 0.0638 - accuracy: 0.9806 - val_loss: 0.0768 - val_accuracy: 0.9754\n",
            "Epoch 27/50\n",
            "50/59 [========================>.....] - ETA: 0s - loss: 0.0623 - accuracy: 0.9815\n",
            "Epoch 27: val_accuracy improved from 0.97560 to 0.97660, saving model to best_model.h5\n",
            "59/59 [==============================] - 0s 4ms/step - loss: 0.0618 - accuracy: 0.9817 - val_loss: 0.0754 - val_accuracy: 0.9766\n",
            "Epoch 28/50\n",
            "59/59 [==============================] - ETA: 0s - loss: 0.0595 - accuracy: 0.9819\n",
            "Epoch 28: val_accuracy improved from 0.97660 to 0.97710, saving model to best_model.h5\n",
            "59/59 [==============================] - 0s 6ms/step - loss: 0.0595 - accuracy: 0.9819 - val_loss: 0.0753 - val_accuracy: 0.9771\n",
            "Epoch 29/50\n",
            "49/59 [=======================>......] - ETA: 0s - loss: 0.0575 - accuracy: 0.9829\n",
            "Epoch 29: val_accuracy did not improve from 0.97710\n",
            "59/59 [==============================] - 0s 4ms/step - loss: 0.0572 - accuracy: 0.9829 - val_loss: 0.0748 - val_accuracy: 0.9757\n",
            "Epoch 30/50\n",
            "51/59 [========================>.....] - ETA: 0s - loss: 0.0559 - accuracy: 0.9828\n",
            "Epoch 30: val_accuracy improved from 0.97710 to 0.97720, saving model to best_model.h5\n",
            "59/59 [==============================] - 0s 4ms/step - loss: 0.0553 - accuracy: 0.9831 - val_loss: 0.0730 - val_accuracy: 0.9772\n",
            "Epoch 31/50\n",
            "50/59 [========================>.....] - ETA: 0s - loss: 0.0528 - accuracy: 0.9836\n",
            "Epoch 31: val_accuracy improved from 0.97720 to 0.97810, saving model to best_model.h5\n",
            "59/59 [==============================] - 0s 4ms/step - loss: 0.0531 - accuracy: 0.9837 - val_loss: 0.0710 - val_accuracy: 0.9781\n",
            "Epoch 32/50\n",
            "50/59 [========================>.....] - ETA: 0s - loss: 0.0524 - accuracy: 0.9845\n",
            "Epoch 32: val_accuracy improved from 0.97810 to 0.97820, saving model to best_model.h5\n",
            "59/59 [==============================] - 0s 4ms/step - loss: 0.0522 - accuracy: 0.9844 - val_loss: 0.0704 - val_accuracy: 0.9782\n",
            "Epoch 33/50\n",
            "50/59 [========================>.....] - ETA: 0s - loss: 0.0493 - accuracy: 0.9851\n",
            "Epoch 33: val_accuracy did not improve from 0.97820\n",
            "59/59 [==============================] - 0s 4ms/step - loss: 0.0502 - accuracy: 0.9848 - val_loss: 0.0730 - val_accuracy: 0.9774\n",
            "Epoch 34/50\n",
            "49/59 [=======================>......] - ETA: 0s - loss: 0.0489 - accuracy: 0.9850\n",
            "Epoch 34: val_accuracy did not improve from 0.97820\n",
            "59/59 [==============================] - 0s 4ms/step - loss: 0.0489 - accuracy: 0.9849 - val_loss: 0.0700 - val_accuracy: 0.9781\n",
            "Epoch 35/50\n",
            "49/59 [=======================>......] - ETA: 0s - loss: 0.0449 - accuracy: 0.9867\n",
            "Epoch 35: val_accuracy improved from 0.97820 to 0.97880, saving model to best_model.h5\n",
            "59/59 [==============================] - 0s 4ms/step - loss: 0.0450 - accuracy: 0.9867 - val_loss: 0.0694 - val_accuracy: 0.9788\n",
            "Epoch 36/50\n",
            "51/59 [========================>.....] - ETA: 0s - loss: 0.0449 - accuracy: 0.9864\n",
            "Epoch 36: val_accuracy did not improve from 0.97880\n",
            "59/59 [==============================] - 0s 4ms/step - loss: 0.0449 - accuracy: 0.9865 - val_loss: 0.0691 - val_accuracy: 0.9778\n",
            "Epoch 37/50\n",
            "50/59 [========================>.....] - ETA: 0s - loss: 0.0439 - accuracy: 0.9865\n",
            "Epoch 37: val_accuracy did not improve from 0.97880\n",
            "59/59 [==============================] - 0s 4ms/step - loss: 0.0439 - accuracy: 0.9865 - val_loss: 0.0694 - val_accuracy: 0.9786\n",
            "Epoch 38/50\n",
            "51/59 [========================>.....] - ETA: 0s - loss: 0.0420 - accuracy: 0.9869\n",
            "Epoch 38: val_accuracy improved from 0.97880 to 0.97890, saving model to best_model.h5\n",
            "59/59 [==============================] - 0s 4ms/step - loss: 0.0427 - accuracy: 0.9866 - val_loss: 0.0687 - val_accuracy: 0.9789\n",
            "Epoch 39/50\n",
            "49/59 [=======================>......] - ETA: 0s - loss: 0.0418 - accuracy: 0.9874\n",
            "Epoch 39: val_accuracy did not improve from 0.97890\n",
            "59/59 [==============================] - 0s 4ms/step - loss: 0.0414 - accuracy: 0.9876 - val_loss: 0.0686 - val_accuracy: 0.9786\n",
            "Epoch 40/50\n",
            "49/59 [=======================>......] - ETA: 0s - loss: 0.0390 - accuracy: 0.9885\n",
            "Epoch 40: val_accuracy improved from 0.97890 to 0.97910, saving model to best_model.h5\n",
            "59/59 [==============================] - 0s 4ms/step - loss: 0.0396 - accuracy: 0.9883 - val_loss: 0.0677 - val_accuracy: 0.9791\n",
            "Epoch 41/50\n",
            "49/59 [=======================>......] - ETA: 0s - loss: 0.0388 - accuracy: 0.9882\n",
            "Epoch 41: val_accuracy did not improve from 0.97910\n",
            "59/59 [==============================] - 0s 4ms/step - loss: 0.0388 - accuracy: 0.9883 - val_loss: 0.0683 - val_accuracy: 0.9783\n",
            "Epoch 42/50\n",
            "48/59 [=======================>......] - ETA: 0s - loss: 0.0380 - accuracy: 0.9888\n",
            "Epoch 42: val_accuracy improved from 0.97910 to 0.97970, saving model to best_model.h5\n",
            "59/59 [==============================] - 0s 4ms/step - loss: 0.0380 - accuracy: 0.9888 - val_loss: 0.0673 - val_accuracy: 0.9797\n",
            "Epoch 43/50\n",
            "49/59 [=======================>......] - ETA: 0s - loss: 0.0351 - accuracy: 0.9896\n",
            "Epoch 43: val_accuracy did not improve from 0.97970\n",
            "59/59 [==============================] - 0s 4ms/step - loss: 0.0356 - accuracy: 0.9894 - val_loss: 0.0680 - val_accuracy: 0.9796\n",
            "Epoch 44/50\n",
            "49/59 [=======================>......] - ETA: 0s - loss: 0.0365 - accuracy: 0.9890\n",
            "Epoch 44: val_accuracy did not improve from 0.97970\n",
            "59/59 [==============================] - 0s 4ms/step - loss: 0.0361 - accuracy: 0.9890 - val_loss: 0.0666 - val_accuracy: 0.9796\n",
            "Epoch 45/50\n",
            "49/59 [=======================>......] - ETA: 0s - loss: 0.0343 - accuracy: 0.9899\n",
            "Epoch 45: val_accuracy did not improve from 0.97970\n",
            "59/59 [==============================] - 0s 4ms/step - loss: 0.0340 - accuracy: 0.9901 - val_loss: 0.0667 - val_accuracy: 0.9792\n",
            "Epoch 46/50\n",
            "48/59 [=======================>......] - ETA: 0s - loss: 0.0331 - accuracy: 0.9903\n",
            "Epoch 46: val_accuracy did not improve from 0.97970\n",
            "59/59 [==============================] - 0s 4ms/step - loss: 0.0332 - accuracy: 0.9900 - val_loss: 0.0666 - val_accuracy: 0.9796\n",
            "Epoch 47/50\n",
            "47/59 [======================>.......] - ETA: 0s - loss: 0.0327 - accuracy: 0.9902\n",
            "Epoch 47: val_accuracy improved from 0.97970 to 0.98020, saving model to best_model.h5\n",
            "59/59 [==============================] - 0s 4ms/step - loss: 0.0327 - accuracy: 0.9901 - val_loss: 0.0657 - val_accuracy: 0.9802\n",
            "Epoch 48/50\n",
            "49/59 [=======================>......] - ETA: 0s - loss: 0.0313 - accuracy: 0.9905\n",
            "Epoch 48: val_accuracy did not improve from 0.98020\n",
            "59/59 [==============================] - 0s 4ms/step - loss: 0.0315 - accuracy: 0.9905 - val_loss: 0.0662 - val_accuracy: 0.9798\n",
            "Epoch 49/50\n",
            "51/59 [========================>.....] - ETA: 0s - loss: 0.0301 - accuracy: 0.9909\n",
            "Epoch 49: val_accuracy did not improve from 0.98020\n",
            "59/59 [==============================] - 0s 4ms/step - loss: 0.0301 - accuracy: 0.9911 - val_loss: 0.0666 - val_accuracy: 0.9798\n",
            "Epoch 50/50\n",
            "49/59 [=======================>......] - ETA: 0s - loss: 0.0306 - accuracy: 0.9908\n",
            "Epoch 50: val_accuracy did not improve from 0.98020\n",
            "59/59 [==============================] - 0s 4ms/step - loss: 0.0305 - accuracy: 0.9909 - val_loss: 0.0670 - val_accuracy: 0.9792\n"
          ]
        }
      ]
    },
    {
      "cell_type": "markdown",
      "source": [
        "\n",
        "\n",
        "*   history = model.fit()\n",
        "    * history 속성: 학습 및 검증 데이터의 메트릭 값들을 에포크별로 저장하는 딕셔너리.\n",
        "    * epoch 속성: 수행된 에포크의 리스트\n",
        "    * params 속성: 모델 학습에 사용된 파라미터들에 대한 정보를 포함하는 딕셔너리.\n",
        "    * model 속성: 학습에 사용된 모델 자체\n",
        "\n"
      ],
      "metadata": {
        "id": "y6OHYhgDqm5j"
      }
    },
    {
      "cell_type": "markdown",
      "source": [
        "# **6. 학습 결과 테스트**"
      ],
      "metadata": {
        "id": "VJH4jjyitzVu"
      }
    },
    {
      "cell_type": "code",
      "source": [
        "model.evaluate(x_test, y_test)"
      ],
      "metadata": {
        "colab": {
          "base_uri": "https://localhost:8080/"
        },
        "id": "DcsXhDJRt3Pf",
        "outputId": "28e715b3-4eb3-4c28-8439-14db8e71a422"
      },
      "execution_count": 13,
      "outputs": [
        {
          "output_type": "stream",
          "name": "stdout",
          "text": [
            "313/313 [==============================] - 1s 2ms/step - loss: 0.0670 - accuracy: 0.9792\n"
          ]
        },
        {
          "output_type": "execute_result",
          "data": {
            "text/plain": [
              "[0.06698687374591827, 0.979200005531311]"
            ]
          },
          "metadata": {},
          "execution_count": 13
        }
      ]
    },
    {
      "cell_type": "markdown",
      "source": [
        "# **7. 성능 그래프**"
      ],
      "metadata": {
        "id": "K27hivVGuR4h"
      }
    },
    {
      "cell_type": "code",
      "source": [
        "x_range = range(1, len(history.history['accuracy'])+1)"
      ],
      "metadata": {
        "id": "WDABPrCEuSAy"
      },
      "execution_count": 14,
      "outputs": []
    },
    {
      "cell_type": "code",
      "source": [
        "history"
      ],
      "metadata": {
        "colab": {
          "base_uri": "https://localhost:8080/"
        },
        "id": "iouvdpR3mgFU",
        "outputId": "75e8bd0d-334e-4e7e-af1c-4918bd6a164f"
      },
      "execution_count": 15,
      "outputs": [
        {
          "output_type": "execute_result",
          "data": {
            "text/plain": [
              "<keras.src.callbacks.History at 0x7eadf86af5b0>"
            ]
          },
          "metadata": {},
          "execution_count": 15
        }
      ]
    },
    {
      "cell_type": "code",
      "source": [
        "history.history.keys()"
      ],
      "metadata": {
        "colab": {
          "base_uri": "https://localhost:8080/"
        },
        "id": "vsJH_CHgmrS4",
        "outputId": "94680eb6-bcbc-4551-a507-f17fdd3228d5"
      },
      "execution_count": 23,
      "outputs": [
        {
          "output_type": "execute_result",
          "data": {
            "text/plain": [
              "dict_keys(['loss', 'accuracy', 'val_loss', 'val_accuracy'])"
            ]
          },
          "metadata": {},
          "execution_count": 23
        }
      ]
    },
    {
      "cell_type": "code",
      "source": [
        "history.history"
      ],
      "metadata": {
        "colab": {
          "base_uri": "https://localhost:8080/"
        },
        "id": "C5Xss0hNnQA4",
        "outputId": "6a59cf6d-236d-4fb1-f196-283078f0ece6"
      },
      "execution_count": 25,
      "outputs": [
        {
          "output_type": "execute_result",
          "data": {
            "text/plain": [
              "{'loss': [0.8634324073791504,\n",
              "  0.3510586619377136,\n",
              "  0.2787480056285858,\n",
              "  0.23838280141353607,\n",
              "  0.2102249711751938,\n",
              "  0.19032704830169678,\n",
              "  0.17417074739933014,\n",
              "  0.16103829443454742,\n",
              "  0.14732234179973602,\n",
              "  0.14095459878444672,\n",
              "  0.131084144115448,\n",
              "  0.12204790860414505,\n",
              "  0.11520206928253174,\n",
              "  0.10730422288179398,\n",
              "  0.10225469619035721,\n",
              "  0.09971177577972412,\n",
              "  0.09360675513744354,\n",
              "  0.08869996666908264,\n",
              "  0.08366094529628754,\n",
              "  0.08041717857122421,\n",
              "  0.07626242190599442,\n",
              "  0.07382888346910477,\n",
              "  0.07020112127065659,\n",
              "  0.06954353302717209,\n",
              "  0.06685259193181992,\n",
              "  0.06380019336938858,\n",
              "  0.061815205961465836,\n",
              "  0.059546954929828644,\n",
              "  0.0572485588490963,\n",
              "  0.05525133013725281,\n",
              "  0.05310368537902832,\n",
              "  0.052209798246622086,\n",
              "  0.05016910284757614,\n",
              "  0.04888254031538963,\n",
              "  0.04500724747776985,\n",
              "  0.044850680977106094,\n",
              "  0.043908942490816116,\n",
              "  0.04268009960651398,\n",
              "  0.0414104163646698,\n",
              "  0.039582252502441406,\n",
              "  0.038761939853429794,\n",
              "  0.037989772856235504,\n",
              "  0.03564837947487831,\n",
              "  0.03614587336778641,\n",
              "  0.03398207947611809,\n",
              "  0.03323116898536682,\n",
              "  0.032738275825977325,\n",
              "  0.031536705791950226,\n",
              "  0.030127495527267456,\n",
              "  0.030501797795295715],\n",
              " 'accuracy': [0.7581833600997925,\n",
              "  0.8995333313941956,\n",
              "  0.9209166765213013,\n",
              "  0.9323166608810425,\n",
              "  0.9397333264350891,\n",
              "  0.9460166692733765,\n",
              "  0.9509333372116089,\n",
              "  0.9527666568756104,\n",
              "  0.9579333066940308,\n",
              "  0.9593833088874817,\n",
              "  0.9621166586875916,\n",
              "  0.9650499820709229,\n",
              "  0.9660500288009644,\n",
              "  0.9688666462898254,\n",
              "  0.9705333113670349,\n",
              "  0.970716655254364,\n",
              "  0.9730499982833862,\n",
              "  0.974216639995575,\n",
              "  0.9749833345413208,\n",
              "  0.9764000177383423,\n",
              "  0.9771000146865845,\n",
              "  0.9775166511535645,\n",
              "  0.9793833494186401,\n",
              "  0.9792500138282776,\n",
              "  0.980400025844574,\n",
              "  0.9806333184242249,\n",
              "  0.9817333221435547,\n",
              "  0.9818666577339172,\n",
              "  0.9829000234603882,\n",
              "  0.9830666780471802,\n",
              "  0.9837499856948853,\n",
              "  0.9843999743461609,\n",
              "  0.9847666621208191,\n",
              "  0.9849333167076111,\n",
              "  0.9866666793823242,\n",
              "  0.9865000247955322,\n",
              "  0.9865000247955322,\n",
              "  0.9865833520889282,\n",
              "  0.9876166582107544,\n",
              "  0.9882500171661377,\n",
              "  0.9883000254631042,\n",
              "  0.9887666702270508,\n",
              "  0.9893666505813599,\n",
              "  0.9890333414077759,\n",
              "  0.990149974822998,\n",
              "  0.9900333285331726,\n",
              "  0.9901333451271057,\n",
              "  0.9904666543006897,\n",
              "  0.9910500049591064,\n",
              "  0.9908666610717773],\n",
              " 'val_loss': [0.35105594992637634,\n",
              "  0.26355454325675964,\n",
              "  0.2188592255115509,\n",
              "  0.19551369547843933,\n",
              "  0.17675264179706573,\n",
              "  0.16129279136657715,\n",
              "  0.14719924330711365,\n",
              "  0.1378934532403946,\n",
              "  0.12906420230865479,\n",
              "  0.12239205092191696,\n",
              "  0.1170184537768364,\n",
              "  0.11254075914621353,\n",
              "  0.10568836331367493,\n",
              "  0.103514663875103,\n",
              "  0.10144884884357452,\n",
              "  0.09474680572748184,\n",
              "  0.09234047681093216,\n",
              "  0.0916258692741394,\n",
              "  0.08917607367038727,\n",
              "  0.08699753135442734,\n",
              "  0.08425942063331604,\n",
              "  0.08262544870376587,\n",
              "  0.08057332783937454,\n",
              "  0.07912831008434296,\n",
              "  0.0775669738650322,\n",
              "  0.07679196447134018,\n",
              "  0.07540257275104523,\n",
              "  0.07530456781387329,\n",
              "  0.07475636899471283,\n",
              "  0.07302463054656982,\n",
              "  0.07098585367202759,\n",
              "  0.07035700976848602,\n",
              "  0.072999007999897,\n",
              "  0.06995183974504471,\n",
              "  0.06935124844312668,\n",
              "  0.06910066306591034,\n",
              "  0.06935234367847443,\n",
              "  0.06867959350347519,\n",
              "  0.06863410025835037,\n",
              "  0.06770342588424683,\n",
              "  0.0683198943734169,\n",
              "  0.06728760153055191,\n",
              "  0.06804035604000092,\n",
              "  0.06657738983631134,\n",
              "  0.06671753525733948,\n",
              "  0.06664445996284485,\n",
              "  0.06570075452327728,\n",
              "  0.0662272498011589,\n",
              "  0.06664257496595383,\n",
              "  0.06698687374591827],\n",
              " 'val_accuracy': [0.902400016784668,\n",
              "  0.9265000224113464,\n",
              "  0.9377999901771545,\n",
              "  0.9430999755859375,\n",
              "  0.9491999745368958,\n",
              "  0.9534000158309937,\n",
              "  0.9569000005722046,\n",
              "  0.9591000080108643,\n",
              "  0.9617999792098999,\n",
              "  0.9642999768257141,\n",
              "  0.965499997138977,\n",
              "  0.9659000039100647,\n",
              "  0.9681000113487244,\n",
              "  0.9672999978065491,\n",
              "  0.968999981880188,\n",
              "  0.9702000021934509,\n",
              "  0.9711999893188477,\n",
              "  0.9714000225067139,\n",
              "  0.9725000262260437,\n",
              "  0.9725000262260437,\n",
              "  0.9739000201225281,\n",
              "  0.9746999740600586,\n",
              "  0.974399983882904,\n",
              "  0.9753000140190125,\n",
              "  0.975600004196167,\n",
              "  0.9753999710083008,\n",
              "  0.9765999913215637,\n",
              "  0.9771000146865845,\n",
              "  0.9757000207901001,\n",
              "  0.9771999716758728,\n",
              "  0.9781000018119812,\n",
              "  0.9782000184059143,\n",
              "  0.977400004863739,\n",
              "  0.9781000018119812,\n",
              "  0.9787999987602234,\n",
              "  0.9778000116348267,\n",
              "  0.978600025177002,\n",
              "  0.9789000153541565,\n",
              "  0.978600025177002,\n",
              "  0.9790999889373779,\n",
              "  0.9782999753952026,\n",
              "  0.9797000288963318,\n",
              "  0.9796000123023987,\n",
              "  0.9796000123023987,\n",
              "  0.979200005531311,\n",
              "  0.9796000123023987,\n",
              "  0.9801999926567078,\n",
              "  0.9797999858856201,\n",
              "  0.9797999858856201,\n",
              "  0.979200005531311]}"
            ]
          },
          "metadata": {},
          "execution_count": 25
        }
      ]
    },
    {
      "cell_type": "code",
      "source": [
        "history.epoch"
      ],
      "metadata": {
        "colab": {
          "base_uri": "https://localhost:8080/"
        },
        "id": "ld8ipDllrmDa",
        "outputId": "0650ec6d-9f52-4379-f53e-9936984f3d1c"
      },
      "execution_count": 26,
      "outputs": [
        {
          "output_type": "execute_result",
          "data": {
            "text/plain": [
              "[0,\n",
              " 1,\n",
              " 2,\n",
              " 3,\n",
              " 4,\n",
              " 5,\n",
              " 6,\n",
              " 7,\n",
              " 8,\n",
              " 9,\n",
              " 10,\n",
              " 11,\n",
              " 12,\n",
              " 13,\n",
              " 14,\n",
              " 15,\n",
              " 16,\n",
              " 17,\n",
              " 18,\n",
              " 19,\n",
              " 20,\n",
              " 21,\n",
              " 22,\n",
              " 23,\n",
              " 24,\n",
              " 25,\n",
              " 26,\n",
              " 27,\n",
              " 28,\n",
              " 29,\n",
              " 30,\n",
              " 31,\n",
              " 32,\n",
              " 33,\n",
              " 34,\n",
              " 35,\n",
              " 36,\n",
              " 37,\n",
              " 38,\n",
              " 39,\n",
              " 40,\n",
              " 41,\n",
              " 42,\n",
              " 43,\n",
              " 44,\n",
              " 45,\n",
              " 46,\n",
              " 47,\n",
              " 48,\n",
              " 49]"
            ]
          },
          "metadata": {},
          "execution_count": 26
        }
      ]
    },
    {
      "cell_type": "code",
      "source": [
        "history.params"
      ],
      "metadata": {
        "colab": {
          "base_uri": "https://localhost:8080/"
        },
        "id": "Hxd2gh3rrptA",
        "outputId": "3a3e23c3-0ebe-4491-a0b5-88e562b6f45e"
      },
      "execution_count": 29,
      "outputs": [
        {
          "output_type": "execute_result",
          "data": {
            "text/plain": [
              "{'verbose': 1, 'epochs': 50, 'steps': 59}"
            ]
          },
          "metadata": {},
          "execution_count": 29
        }
      ]
    },
    {
      "cell_type": "code",
      "source": [
        "history.model"
      ],
      "metadata": {
        "colab": {
          "base_uri": "https://localhost:8080/"
        },
        "id": "7HgdXCD8r1Rp",
        "outputId": "b4194bb0-c6ab-449f-acd6-424903e09028"
      },
      "execution_count": 30,
      "outputs": [
        {
          "output_type": "execute_result",
          "data": {
            "text/plain": [
              "<keras.src.engine.sequential.Sequential at 0x7eadf8f65ab0>"
            ]
          },
          "metadata": {},
          "execution_count": 30
        }
      ]
    },
    {
      "cell_type": "code",
      "source": [
        "dir(history)"
      ],
      "metadata": {
        "colab": {
          "base_uri": "https://localhost:8080/"
        },
        "id": "ny8u5lu1r54u",
        "outputId": "7a935001-d674-4a74-8541-8ae252ad627b"
      },
      "execution_count": 31,
      "outputs": [
        {
          "output_type": "execute_result",
          "data": {
            "text/plain": [
              "['__class__',\n",
              " '__delattr__',\n",
              " '__dict__',\n",
              " '__dir__',\n",
              " '__doc__',\n",
              " '__eq__',\n",
              " '__format__',\n",
              " '__ge__',\n",
              " '__getattribute__',\n",
              " '__gt__',\n",
              " '__hash__',\n",
              " '__init__',\n",
              " '__init_subclass__',\n",
              " '__le__',\n",
              " '__lt__',\n",
              " '__module__',\n",
              " '__ne__',\n",
              " '__new__',\n",
              " '__reduce__',\n",
              " '__reduce_ex__',\n",
              " '__repr__',\n",
              " '__setattr__',\n",
              " '__sizeof__',\n",
              " '__str__',\n",
              " '__subclasshook__',\n",
              " '__weakref__',\n",
              " '_chief_worker_only',\n",
              " '_implements_predict_batch_hooks',\n",
              " '_implements_test_batch_hooks',\n",
              " '_implements_train_batch_hooks',\n",
              " '_keras_api_names',\n",
              " '_keras_api_names_v1',\n",
              " '_supports_tf_logs',\n",
              " 'epoch',\n",
              " 'history',\n",
              " 'model',\n",
              " 'on_batch_begin',\n",
              " 'on_batch_end',\n",
              " 'on_epoch_begin',\n",
              " 'on_epoch_end',\n",
              " 'on_predict_batch_begin',\n",
              " 'on_predict_batch_end',\n",
              " 'on_predict_begin',\n",
              " 'on_predict_end',\n",
              " 'on_test_batch_begin',\n",
              " 'on_test_batch_end',\n",
              " 'on_test_begin',\n",
              " 'on_test_end',\n",
              " 'on_train_batch_begin',\n",
              " 'on_train_batch_end',\n",
              " 'on_train_begin',\n",
              " 'on_train_end',\n",
              " 'params',\n",
              " 'set_model',\n",
              " 'set_params',\n",
              " 'validation_data']"
            ]
          },
          "metadata": {},
          "execution_count": 31
        }
      ]
    },
    {
      "cell_type": "code",
      "source": [
        "len(history.history['accuracy'])"
      ],
      "metadata": {
        "colab": {
          "base_uri": "https://localhost:8080/"
        },
        "id": "gl9b9_VcmrZn",
        "outputId": "afbc7c5f-e7c8-4fc8-ab32-63419a92fd87"
      },
      "execution_count": 21,
      "outputs": [
        {
          "output_type": "execute_result",
          "data": {
            "text/plain": [
              "50"
            ]
          },
          "metadata": {},
          "execution_count": 21
        }
      ]
    },
    {
      "cell_type": "code",
      "source": [
        "len(history.epoch)"
      ],
      "metadata": {
        "colab": {
          "base_uri": "https://localhost:8080/"
        },
        "id": "FLD_sJDxsSUl",
        "outputId": "f43f35df-83c9-4d51-f725-c552ac5578f0"
      },
      "execution_count": 32,
      "outputs": [
        {
          "output_type": "execute_result",
          "data": {
            "text/plain": [
              "50"
            ]
          },
          "metadata": {},
          "execution_count": 32
        }
      ]
    },
    {
      "cell_type": "code",
      "source": [
        "plt.figure(figsize=(10, 6))\n",
        "plt.subplot(221)\n",
        "plt.plot(x_range, history.history['accuracy'], color='red', label='Accuracy')\n",
        "plt.plot(x_range, history.history['val_accuracy'], color='green', label='Validation Accuracy')\n",
        "plt.xlabel('Epochs')\n",
        "plt.ylabel('Accuracy')\n",
        "plt.legend()\n",
        "plt.subplot(222)\n",
        "plt.plot(x_range, history.history['loss'], color='red', label='Loss')\n",
        "plt.plot(x_range, history.history['val_loss'], color='green', label='Validation Loss')\n",
        "plt.xlabel('Epochs')\n",
        "plt.ylabel('Loss')\n",
        "plt.legend()"
      ],
      "metadata": {
        "colab": {
          "base_uri": "https://localhost:8080/",
          "height": 311
        },
        "id": "FRajkCyruSG6",
        "outputId": "c116f93f-ad22-445b-8d09-1a4e607f70c4"
      },
      "execution_count": 34,
      "outputs": [
        {
          "output_type": "execute_result",
          "data": {
            "text/plain": [
              "<matplotlib.legend.Legend at 0x7ead6436dd50>"
            ]
          },
          "metadata": {},
          "execution_count": 34
        },
        {
          "output_type": "display_data",
          "data": {
            "text/plain": [
              "<Figure size 1000x600 with 2 Axes>"
            ],
            "image/png": "[encoded data removed]"
          },
          "metadata": {}
        }
      ]
    },
    {
      "cell_type": "markdown",
      "source": [
        "\n",
        "\n",
        "*   plt.figure(figsize=(10,6))\n",
        "    * 새로운 Figure(그림) 생성.\n",
        "    * 그림의 크기를 가로 10인치, 세로 6인치로 설정.\n",
        "    * 이 그림 안에 여러 개의 서브플롯 배치 가능.\n",
        "*   plt.subplot(221)\n",
        "    * 2*2 그리드의 첫 번째 위치(왼쪽 위)에 서브 플롯을 생성\n",
        "    * 221의 의미:\n",
        "        * 첫 번째 2: 전체 그리드의 행 수 (2행)\n",
        "        * 두 번째 2: 전체 그리드의 열 수\n",
        "        (2열)\n",
        "        * 마지막 1: 서브플롯의 위치 (1번째 서브플롯)\n",
        "*   plt.plot(x, y): x축 정보, y축 정보를 바탕으로 plot 생성\n",
        "*   plt.xlabel(): x축 레이블 생성\n",
        "*   plt.ylabel(): y축 레이블 생성\n",
        "*   plt.legend(): 플롯에 범례를 추가함. 범례는 각 플롯의 'label' 속성에 따라 설정.\n"
      ],
      "metadata": {
        "id": "Y2zglNk6sp-9"
      }
    },
    {
      "cell_type": "markdown",
      "source": [
        "# **8. 실전 테스트: 손글씨 입력해서 분류 잘 하는지 평가**"
      ],
      "metadata": {
        "id": "oSC89MFF6L52"
      }
    },
    {
      "cell_type": "code",
      "source": [
        "x_test[0].shape"
      ],
      "metadata": {
        "colab": {
          "base_uri": "https://localhost:8080/"
        },
        "id": "23BDprh16SWs",
        "outputId": "51a78af3-ae79-4908-ca71-16c02859a2e6"
      },
      "execution_count": 18,
      "outputs": [
        {
          "output_type": "execute_result",
          "data": {
            "text/plain": [
              "(28, 28)"
            ]
          },
          "metadata": {},
          "execution_count": 18
        }
      ]
    },
    {
      "cell_type": "code",
      "source": [
        "n = 0\n",
        "plt.imshow(x_test[n], cmap='gray')\n",
        "plt.show()\n",
        "\n",
        "pred = model.predict(x_test[n].reshape(1, 28, 28))\n",
        "answer = np.argmax(pred, axis=1)\n",
        "\n",
        "print(\"Prediction Probability: \", pred)\n",
        "print(\"The Answer is \", answer)"
      ],
      "metadata": {
        "colab": {
          "base_uri": "https://localhost:8080/",
          "height": 503
        },
        "id": "-pqhlwy31Y22",
        "outputId": "cf5ff827-c5c4-45d8-e79c-cdec0a3a2d4f"
      },
      "execution_count": 19,
      "outputs": [
        {
          "output_type": "display_data",
          "data": {
            "text/plain": [
              "<Figure size 640x480 with 1 Axes>"
            ],
            "image/png": "[encoded data removed]"
          },
          "metadata": {}
        },
        {
          "output_type": "stream",
          "name": "stdout",
          "text": [
            "1/1 [==============================] - 0s 106ms/step\n",
            "Prediction Probability:  [[6.2020354e-07 1.8086696e-10 2.9493542e-06 1.2075106e-04 2.1992347e-11\n",
            "  1.1004005e-09 2.6726705e-12 9.9987268e-01 2.6337403e-08 2.9258915e-06]]\n",
            "The Answer is  [7]\n"
          ]
        }
      ]
    },
    {
      "cell_type": "markdown",
      "source": [
        "**pred = model.predict(x_test[n].reshape(1, 28, 28))**\n",
        "\n",
        "\n",
        "☣ 이미지는 2차원 데이터인데 왜 reshape을 3차원으로 해주는가?: 이미지는 2차원인데 Dense 레이어는 1차원 배열을 입력 받을 수 있기 때문에 Flatten 레이어로 쫙 펴줘야한다. 그런데 모델에 데이터를 넣을 때는 위의 코드처럼 reshape(1, 28, 28) 이렇게 차원을 한 개 더 추가해준다. Tensorflow, Keras 모델을 사용할 때 입력 데이터의 차원에 배치 크기를 추가해야 한다. 왜냐하면 이 모델들은 배치 데이터를 입력으로 받고 배치 형태로 처리하기 때문이다. 여기서 배치 데이터는 여러 개의 28*28 이미지를 포함하는 3차원 배열이다. 모델을 학습하거나 예측을 수행할 때, 입력 데이터는 (batch_size, input_shape)의 형태를 가져야 한다. 이 때, input_shape은 모델이 처음 설정될 때 정의된 차원을 따릅니다. 예를 들어, 이미지가 28x28 픽셀이면 input_shape은 (28, 28)이 됩니다. 하지만 모든 Keras 모델은 데이터를 배치로 처리하므로, 실제 입력 형태는 (batch_size, 28, 28)이 되어야 합니다. 여기서 batch_size는 동시에 처리할 샘플의 수를 의미합니다.\n",
        "\n",
        "---\n",
        "\n",
        "예를 들어, 단일 이미지(28x28)를 모델에 입력하기 위해서는 이 이미지를 배치의 일부로 만들어야 하므로, 이를 (1, 28, 28)로 reshape하는 것입니다. 여기서 1은 배치 크기를 의미하며, 한 번에 하나의 이미지만 처리하고 있음을 나타냅니다.\n",
        "\n",
        "\n",
        "---\n",
        "\n",
        "# 단일 이미지 처리 예\n",
        "pred = model.predict(x_test[n].reshape(1, 28, 28))\n",
        "\n",
        "\n",
        "\n",
        "\n",
        "\n"
      ],
      "metadata": {
        "id": "ibBwXYKEv4-6"
      }
    },
    {
      "cell_type": "markdown",
      "source": [
        "# 내용 정리\n",
        "\n",
        "\n",
        "1.   Keras 손글씨 MNIST Dataset 활용\n",
        "2.   FCNN 모델도 이미지 분류 가능\n",
        "\n",
        "\n",
        "😠 이미지를 1차원으로 받아야 하기에 Flatten() 함수를 사용하여 입력받아야 함\n",
        "\n"
      ],
      "metadata": {
        "id": "7BCJrcwidPC_"
      }
    }
  ]
}