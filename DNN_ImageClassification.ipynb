{
  "nbformat": 4,
  "nbformat_minor": 0,
  "metadata": {
    "colab": {
      "provenance": [],
      "authorship_tag": "ABX9TyN9XnF9+SyhccohEzqr4dHf",
      "include_colab_link": true
    },
    "kernelspec": {
      "name": "python3",
      "display_name": "Python 3"
    },
    "language_info": {
      "name": "python"
    }
  },
  "cells": [
    {
      "cell_type": "markdown",
      "metadata": {
        "id": "view-in-github",
        "colab_type": "text"
      },
      "source": [
        "<a href=\"https://colab.research.google.com/github/KIMBUMJU/CV/blob/main/DNN_ImageClassification.ipynb\" target=\"_parent\"><img src=\"https://colab.research.google.com/assets/colab-badge.svg\" alt=\"Open In Colab\"/></a>"
      ]
    },
    {
      "cell_type": "markdown",
      "source": [
        "# FCNN 이용하여 MNIST 분류하기\n",
        "\n",
        "\n",
        "\n",
        "*   FCNN(Fully Connected Neuron Network) 이용하여 손글씨 MNIST 분류 진행\n",
        "*   입력 데이터셋: Keras Dataset MNIST\n",
        "*   이미지 분류 시 DNN을 사용\n",
        "\n"
      ],
      "metadata": {
        "id": "FiXBIOzeTg8O"
      }
    },
    {
      "cell_type": "markdown",
      "source": [
        "# **1. Import modules**"
      ],
      "metadata": {
        "id": "iixSH87AUuuN"
      }
    },
    {
      "cell_type": "code",
      "source": [
        "!pip install tensorflow==2.15.1"
      ],
      "metadata": {
        "colab": {
          "base_uri": "https://localhost:8080/"
        },
        "id": "KnBezaJVfb-M",
        "outputId": "78549084-3360-42e2-d88c-31a6078e30bd"
      },
      "execution_count": 23,
      "outputs": [
        {
          "output_type": "stream",
          "name": "stdout",
          "text": [
            "Requirement already satisfied: tensorflow==2.15.1 in /usr/local/lib/python3.10/dist-packages (2.15.1)\n",
            "Requirement already satisfied: absl-py>=1.0.0 in /usr/local/lib/python3.10/dist-packages (from tensorflow==2.15.1) (1.4.0)\n",
            "Requirement already satisfied: astunparse>=1.6.0 in /usr/local/lib/python3.10/dist-packages (from tensorflow==2.15.1) (1.6.3)\n",
            "Requirement already satisfied: flatbuffers>=23.5.26 in /usr/local/lib/python3.10/dist-packages (from tensorflow==2.15.1) (24.3.25)\n",
            "Requirement already satisfied: gast!=0.5.0,!=0.5.1,!=0.5.2,>=0.2.1 in /usr/local/lib/python3.10/dist-packages (from tensorflow==2.15.1) (0.6.0)\n",
            "Requirement already satisfied: google-pasta>=0.1.1 in /usr/local/lib/python3.10/dist-packages (from tensorflow==2.15.1) (0.2.0)\n",
            "Requirement already satisfied: h5py>=2.9.0 in /usr/local/lib/python3.10/dist-packages (from tensorflow==2.15.1) (3.11.0)\n",
            "Requirement already satisfied: libclang>=13.0.0 in /usr/local/lib/python3.10/dist-packages (from tensorflow==2.15.1) (18.1.1)\n",
            "Requirement already satisfied: ml-dtypes~=0.3.1 in /usr/local/lib/python3.10/dist-packages (from tensorflow==2.15.1) (0.3.2)\n",
            "Requirement already satisfied: numpy<2.0.0,>=1.23.5 in /usr/local/lib/python3.10/dist-packages (from tensorflow==2.15.1) (1.25.2)\n",
            "Requirement already satisfied: opt-einsum>=2.3.2 in /usr/local/lib/python3.10/dist-packages (from tensorflow==2.15.1) (3.3.0)\n",
            "Requirement already satisfied: packaging in /usr/local/lib/python3.10/dist-packages (from tensorflow==2.15.1) (24.1)\n",
            "Requirement already satisfied: protobuf!=4.21.0,!=4.21.1,!=4.21.2,!=4.21.3,!=4.21.4,!=4.21.5,<5.0.0dev,>=3.20.3 in /usr/local/lib/python3.10/dist-packages (from tensorflow==2.15.1) (3.20.3)\n",
            "Requirement already satisfied: setuptools in /usr/local/lib/python3.10/dist-packages (from tensorflow==2.15.1) (67.7.2)\n",
            "Requirement already satisfied: six>=1.12.0 in /usr/local/lib/python3.10/dist-packages (from tensorflow==2.15.1) (1.16.0)\n",
            "Requirement already satisfied: termcolor>=1.1.0 in /usr/local/lib/python3.10/dist-packages (from tensorflow==2.15.1) (2.4.0)\n",
            "Requirement already satisfied: typing-extensions>=3.6.6 in /usr/local/lib/python3.10/dist-packages (from tensorflow==2.15.1) (4.12.2)\n",
            "Requirement already satisfied: wrapt<1.15,>=1.11.0 in /usr/local/lib/python3.10/dist-packages (from tensorflow==2.15.1) (1.14.1)\n",
            "Requirement already satisfied: tensorflow-io-gcs-filesystem>=0.23.1 in /usr/local/lib/python3.10/dist-packages (from tensorflow==2.15.1) (0.37.1)\n",
            "Requirement already satisfied: grpcio<2.0,>=1.24.3 in /usr/local/lib/python3.10/dist-packages (from tensorflow==2.15.1) (1.64.1)\n",
            "Requirement already satisfied: tensorboard<2.16,>=2.15 in /usr/local/lib/python3.10/dist-packages (from tensorflow==2.15.1) (2.15.2)\n",
            "Requirement already satisfied: tensorflow-estimator<2.16,>=2.15.0 in /usr/local/lib/python3.10/dist-packages (from tensorflow==2.15.1) (2.15.0)\n",
            "Requirement already satisfied: keras<2.16,>=2.15.0 in /usr/local/lib/python3.10/dist-packages (from tensorflow==2.15.1) (2.15.0)\n",
            "Requirement already satisfied: wheel<1.0,>=0.23.0 in /usr/local/lib/python3.10/dist-packages (from astunparse>=1.6.0->tensorflow==2.15.1) (0.43.0)\n",
            "Requirement already satisfied: google-auth<3,>=1.6.3 in /usr/local/lib/python3.10/dist-packages (from tensorboard<2.16,>=2.15->tensorflow==2.15.1) (2.27.0)\n",
            "Requirement already satisfied: google-auth-oauthlib<2,>=0.5 in /usr/local/lib/python3.10/dist-packages (from tensorboard<2.16,>=2.15->tensorflow==2.15.1) (1.2.1)\n",
            "Requirement already satisfied: markdown>=2.6.8 in /usr/local/lib/python3.10/dist-packages (from tensorboard<2.16,>=2.15->tensorflow==2.15.1) (3.6)\n",
            "Requirement already satisfied: requests<3,>=2.21.0 in /usr/local/lib/python3.10/dist-packages (from tensorboard<2.16,>=2.15->tensorflow==2.15.1) (2.31.0)\n",
            "Requirement already satisfied: tensorboard-data-server<0.8.0,>=0.7.0 in /usr/local/lib/python3.10/dist-packages (from tensorboard<2.16,>=2.15->tensorflow==2.15.1) (0.7.2)\n",
            "Requirement already satisfied: werkzeug>=1.0.1 in /usr/local/lib/python3.10/dist-packages (from tensorboard<2.16,>=2.15->tensorflow==2.15.1) (3.0.3)\n",
            "Requirement already satisfied: cachetools<6.0,>=2.0.0 in /usr/local/lib/python3.10/dist-packages (from google-auth<3,>=1.6.3->tensorboard<2.16,>=2.15->tensorflow==2.15.1) (5.3.3)\n",
            "Requirement already satisfied: pyasn1-modules>=0.2.1 in /usr/local/lib/python3.10/dist-packages (from google-auth<3,>=1.6.3->tensorboard<2.16,>=2.15->tensorflow==2.15.1) (0.4.0)\n",
            "Requirement already satisfied: rsa<5,>=3.1.4 in /usr/local/lib/python3.10/dist-packages (from google-auth<3,>=1.6.3->tensorboard<2.16,>=2.15->tensorflow==2.15.1) (4.9)\n",
            "Requirement already satisfied: requests-oauthlib>=0.7.0 in /usr/local/lib/python3.10/dist-packages (from google-auth-oauthlib<2,>=0.5->tensorboard<2.16,>=2.15->tensorflow==2.15.1) (1.3.1)\n",
            "Requirement already satisfied: charset-normalizer<4,>=2 in /usr/local/lib/python3.10/dist-packages (from requests<3,>=2.21.0->tensorboard<2.16,>=2.15->tensorflow==2.15.1) (3.3.2)\n",
            "Requirement already satisfied: idna<4,>=2.5 in /usr/local/lib/python3.10/dist-packages (from requests<3,>=2.21.0->tensorboard<2.16,>=2.15->tensorflow==2.15.1) (3.7)\n",
            "Requirement already satisfied: urllib3<3,>=1.21.1 in /usr/local/lib/python3.10/dist-packages (from requests<3,>=2.21.0->tensorboard<2.16,>=2.15->tensorflow==2.15.1) (2.0.7)\n",
            "Requirement already satisfied: certifi>=2017.4.17 in /usr/local/lib/python3.10/dist-packages (from requests<3,>=2.21.0->tensorboard<2.16,>=2.15->tensorflow==2.15.1) (2024.7.4)\n",
            "Requirement already satisfied: MarkupSafe>=2.1.1 in /usr/local/lib/python3.10/dist-packages (from werkzeug>=1.0.1->tensorboard<2.16,>=2.15->tensorflow==2.15.1) (2.1.5)\n",
            "Requirement already satisfied: pyasn1<0.7.0,>=0.4.6 in /usr/local/lib/python3.10/dist-packages (from pyasn1-modules>=0.2.1->google-auth<3,>=1.6.3->tensorboard<2.16,>=2.15->tensorflow==2.15.1) (0.6.0)\n",
            "Requirement already satisfied: oauthlib>=3.0.0 in /usr/local/lib/python3.10/dist-packages (from requests-oauthlib>=0.7.0->google-auth-oauthlib<2,>=0.5->tensorboard<2.16,>=2.15->tensorflow==2.15.1) (3.2.2)\n"
          ]
        }
      ]
    },
    {
      "cell_type": "code",
      "execution_count": 24,
      "metadata": {
        "id": "3wRbJSy0TWGa"
      },
      "outputs": [],
      "source": [
        "import tensorflow as tf\n",
        "import numpy as np\n",
        "import pandas as pd\n",
        "import matplotlib.pyplot as plt"
      ]
    },
    {
      "cell_type": "code",
      "source": [
        "print(\"TensorFlow version:\", tf.__version__)"
      ],
      "metadata": {
        "colab": {
          "base_uri": "https://localhost:8080/"
        },
        "id": "dAK_KSLRofS8",
        "outputId": "30d41949-0e68-483b-9006-4c062f9fa7f6"
      },
      "execution_count": 25,
      "outputs": [
        {
          "output_type": "stream",
          "name": "stdout",
          "text": [
            "TensorFlow version: 2.15.1\n"
          ]
        }
      ]
    },
    {
      "cell_type": "markdown",
      "source": [
        "# **2. 데이터 불러오기**"
      ],
      "metadata": {
        "id": "DBr2NhCbVuTH"
      }
    },
    {
      "cell_type": "code",
      "source": [
        "mnist = tf.keras.datasets.mnist\n",
        "(x_train, y_train), (x_test, y_test) = mnist.load_data()\n",
        "x_train, x_test = x_train / 255.0, x_test / 255.0\n",
        "# 이미지 화소값은 0~255. 고로 255로 나눠주면 0~1로 스케일 변환됨"
      ],
      "metadata": {
        "id": "h2rD4u0HWOcp"
      },
      "execution_count": 26,
      "outputs": []
    },
    {
      "cell_type": "code",
      "source": [
        "# 3차원 배열\n",
        "x_train.shape, x_test.shape"
      ],
      "metadata": {
        "colab": {
          "base_uri": "https://localhost:8080/"
        },
        "id": "XscWITvaYWXl",
        "outputId": "54aa8953-c87b-4608-b5f9-a8de046975d0"
      },
      "execution_count": 27,
      "outputs": [
        {
          "output_type": "execute_result",
          "data": {
            "text/plain": [
              "((60000, 28, 28), (10000, 28, 28))"
            ]
          },
          "metadata": {},
          "execution_count": 27
        }
      ]
    },
    {
      "cell_type": "code",
      "source": [
        "y_train.shape, y_test.shape"
      ],
      "metadata": {
        "colab": {
          "base_uri": "https://localhost:8080/"
        },
        "id": "whOLIaFUjJv3",
        "outputId": "5fd1c506-66a9-4ab8-cc4b-87e8150c9f9a"
      },
      "execution_count": 28,
      "outputs": [
        {
          "output_type": "execute_result",
          "data": {
            "text/plain": [
              "((60000,), (10000,))"
            ]
          },
          "metadata": {},
          "execution_count": 28
        }
      ]
    },
    {
      "cell_type": "markdown",
      "source": [
        "# **3. FCNN 모델 구성**\n",
        "\n",
        "\n",
        "*   FCNN 입력 구조: 2차원(Batch * row)\n",
        "*   이미지 입력 데이터를 일렬로 쭉 펴서 모델에 주어야 하므로 Flatten 함수를 사용\n",
        "\n"
      ],
      "metadata": {
        "id": "25u-b7V9YlTd"
      }
    },
    {
      "cell_type": "code",
      "source": [
        "model = tf.keras.models.Sequential([\n",
        "    tf.keras.layers.Flatten(input_shape=(28, 28)),\n",
        "    tf.keras.layers.Dense(128, activation='relu'),\n",
        "    tf.keras.layers.Dropout(0.2),\n",
        "    tf.keras.layers.Dense(10, activation='softmax'),\n",
        "])"
      ],
      "metadata": {
        "id": "YLFElmLVYb5A"
      },
      "execution_count": 29,
      "outputs": []
    },
    {
      "cell_type": "markdown",
      "source": [
        "# **4. 모델 Compile**"
      ],
      "metadata": {
        "id": "-qrmyzcff9SZ"
      }
    },
    {
      "cell_type": "code",
      "source": [
        "model.compile(\n",
        "    optimizer='adam',\n",
        "    loss='sparse_categorical_crossentropy',\n",
        "    metrics=['accuracy'],\n",
        ")\n",
        "model.summary()"
      ],
      "metadata": {
        "colab": {
          "base_uri": "https://localhost:8080/"
        },
        "id": "dDP_FN8VYiDF",
        "outputId": "e2f341e8-362f-4cf9-9265-1f2290fd8bdb"
      },
      "execution_count": 30,
      "outputs": [
        {
          "output_type": "stream",
          "name": "stdout",
          "text": [
            "Model: \"sequential_1\"\n",
            "_________________________________________________________________\n",
            " Layer (type)                Output Shape              Param #   \n",
            "=================================================================\n",
            " flatten_1 (Flatten)         (None, 784)               0         \n",
            "                                                                 \n",
            " dense_2 (Dense)             (None, 128)               100480    \n",
            "                                                                 \n",
            " dropout_1 (Dropout)         (None, 128)               0         \n",
            "                                                                 \n",
            " dense_3 (Dense)             (None, 10)                1290      \n",
            "                                                                 \n",
            "=================================================================\n",
            "Total params: 101770 (397.54 KB)\n",
            "Trainable params: 101770 (397.54 KB)\n",
            "Non-trainable params: 0 (0.00 Byte)\n",
            "_________________________________________________________________\n"
          ]
        }
      ]
    },
    {
      "cell_type": "markdown",
      "source": [
        "# **5. 학습 수행**"
      ],
      "metadata": {
        "id": "fEfY2o_rjYhB"
      }
    },
    {
      "cell_type": "code",
      "source": [
        "EPOCH = 50\n",
        "BATCH_SIZE = 1024"
      ],
      "metadata": {
        "id": "5YN4THoujXTC"
      },
      "execution_count": 31,
      "outputs": []
    },
    {
      "cell_type": "code",
      "source": [
        "from tensorflow import keras\n",
        "from keras.callbacks import EarlyStopping, ModelCheckpoint"
      ],
      "metadata": {
        "id": "m3_dOANojh72"
      },
      "execution_count": 32,
      "outputs": []
    },
    {
      "cell_type": "code",
      "source": [
        "es = EarlyStopping(monitor='val_loss', patience = 4, verbose=1)\n",
        "mc = ModelCheckpoint('best_model.h5', monitor='val_accuracy', mode='max', save_best_only='True', verbose=1)"
      ],
      "metadata": {
        "id": "8K_u1Gu1jh-f"
      },
      "execution_count": 33,
      "outputs": []
    },
    {
      "cell_type": "code",
      "source": [
        "history = model.fit(x_train, y_train, epochs=EPOCH, batch_size=BATCH_SIZE, callbacks=[es, mc], validation_data=(x_test, y_test))"
      ],
      "metadata": {
        "colab": {
          "base_uri": "https://localhost:8080/"
        },
        "id": "35KNuJ9xjiDJ",
        "outputId": "adf3d3dc-bad7-4875-8253-081e987f4052"
      },
      "execution_count": 34,
      "outputs": [
        {
          "output_type": "stream",
          "name": "stdout",
          "text": [
            "Epoch 1/50\n",
            "59/59 [==============================] - ETA: 0s - loss: 0.8720 - accuracy: 0.7548\n",
            "Epoch 1: val_accuracy improved from -inf to 0.90390, saving model to best_model.h5\n",
            "59/59 [==============================] - 3s 39ms/step - loss: 0.8720 - accuracy: 0.7548 - val_loss: 0.3562 - val_accuracy: 0.9039\n",
            "Epoch 2/50\n",
            " 6/59 [==>...........................] - ETA: 1s - loss: 0.4134 - accuracy: 0.8818"
          ]
        },
        {
          "output_type": "stream",
          "name": "stderr",
          "text": [
            "/usr/local/lib/python3.10/dist-packages/keras/src/engine/training.py:3103: UserWarning: You are saving your model as an HDF5 file via `model.save()`. This file format is considered legacy. We recommend using instead the native Keras format, e.g. `model.save('my_model.keras')`.\n",
            "  saving_api.save_model(\n"
          ]
        },
        {
          "output_type": "stream",
          "name": "stdout",
          "text": [
            "58/59 [============================>.] - ETA: 0s - loss: 0.3557 - accuracy: 0.8977\n",
            "Epoch 2: val_accuracy improved from 0.90390 to 0.92530, saving model to best_model.h5\n",
            "59/59 [==============================] - 2s 31ms/step - loss: 0.3548 - accuracy: 0.8981 - val_loss: 0.2671 - val_accuracy: 0.9253\n",
            "Epoch 3/50\n",
            "58/59 [============================>.] - ETA: 0s - loss: 0.2832 - accuracy: 0.9189\n",
            "Epoch 3: val_accuracy improved from 0.92530 to 0.93650, saving model to best_model.h5\n",
            "59/59 [==============================] - 3s 59ms/step - loss: 0.2834 - accuracy: 0.9188 - val_loss: 0.2243 - val_accuracy: 0.9365\n",
            "Epoch 4/50\n",
            "58/59 [============================>.] - ETA: 0s - loss: 0.2410 - accuracy: 0.9311\n",
            "Epoch 4: val_accuracy improved from 0.93650 to 0.94300, saving model to best_model.h5\n",
            "59/59 [==============================] - 4s 70ms/step - loss: 0.2411 - accuracy: 0.9311 - val_loss: 0.1992 - val_accuracy: 0.9430\n",
            "Epoch 5/50\n",
            "59/59 [==============================] - ETA: 0s - loss: 0.2136 - accuracy: 0.9381\n",
            "Epoch 5: val_accuracy improved from 0.94300 to 0.95000, saving model to best_model.h5\n",
            "59/59 [==============================] - 3s 51ms/step - loss: 0.2136 - accuracy: 0.9381 - val_loss: 0.1760 - val_accuracy: 0.9500\n",
            "Epoch 6/50\n",
            "58/59 [============================>.] - ETA: 0s - loss: 0.1916 - accuracy: 0.9447\n",
            "Epoch 6: val_accuracy improved from 0.95000 to 0.95420, saving model to best_model.h5\n",
            "59/59 [==============================] - 2s 34ms/step - loss: 0.1918 - accuracy: 0.9446 - val_loss: 0.1585 - val_accuracy: 0.9542\n",
            "Epoch 7/50\n",
            "59/59 [==============================] - ETA: 0s - loss: 0.1735 - accuracy: 0.9498\n",
            "Epoch 7: val_accuracy improved from 0.95420 to 0.95660, saving model to best_model.h5\n",
            "59/59 [==============================] - 2s 39ms/step - loss: 0.1735 - accuracy: 0.9498 - val_loss: 0.1457 - val_accuracy: 0.9566\n",
            "Epoch 8/50\n",
            "59/59 [==============================] - ETA: 0s - loss: 0.1591 - accuracy: 0.9540\n",
            "Epoch 8: val_accuracy improved from 0.95660 to 0.96070, saving model to best_model.h5\n",
            "59/59 [==============================] - 2s 35ms/step - loss: 0.1591 - accuracy: 0.9540 - val_loss: 0.1364 - val_accuracy: 0.9607\n",
            "Epoch 9/50\n",
            "58/59 [============================>.] - ETA: 0s - loss: 0.1479 - accuracy: 0.9567\n",
            "Epoch 9: val_accuracy improved from 0.96070 to 0.96160, saving model to best_model.h5\n",
            "59/59 [==============================] - 3s 44ms/step - loss: 0.1481 - accuracy: 0.9566 - val_loss: 0.1286 - val_accuracy: 0.9616\n",
            "Epoch 10/50\n",
            "59/59 [==============================] - ETA: 0s - loss: 0.1377 - accuracy: 0.9605\n",
            "Epoch 10: val_accuracy improved from 0.96160 to 0.96450, saving model to best_model.h5\n",
            "59/59 [==============================] - 3s 48ms/step - loss: 0.1377 - accuracy: 0.9605 - val_loss: 0.1214 - val_accuracy: 0.9645\n",
            "Epoch 11/50\n",
            "57/59 [===========================>..] - ETA: 0s - loss: 0.1295 - accuracy: 0.9631\n",
            "Epoch 11: val_accuracy improved from 0.96450 to 0.96620, saving model to best_model.h5\n",
            "59/59 [==============================] - 1s 19ms/step - loss: 0.1291 - accuracy: 0.9630 - val_loss: 0.1151 - val_accuracy: 0.9662\n",
            "Epoch 12/50\n",
            "58/59 [============================>.] - ETA: 0s - loss: 0.1204 - accuracy: 0.9655\n",
            "Epoch 12: val_accuracy improved from 0.96620 to 0.96750, saving model to best_model.h5\n",
            "59/59 [==============================] - 1s 18ms/step - loss: 0.1203 - accuracy: 0.9655 - val_loss: 0.1083 - val_accuracy: 0.9675\n",
            "Epoch 13/50\n",
            "56/59 [===========================>..] - ETA: 0s - loss: 0.1121 - accuracy: 0.9674\n",
            "Epoch 13: val_accuracy improved from 0.96750 to 0.96870, saving model to best_model.h5\n",
            "59/59 [==============================] - 1s 17ms/step - loss: 0.1130 - accuracy: 0.9669 - val_loss: 0.1045 - val_accuracy: 0.9687\n",
            "Epoch 14/50\n",
            "56/59 [===========================>..] - ETA: 0s - loss: 0.1082 - accuracy: 0.9686\n",
            "Epoch 14: val_accuracy improved from 0.96870 to 0.96940, saving model to best_model.h5\n",
            "59/59 [==============================] - 1s 17ms/step - loss: 0.1075 - accuracy: 0.9689 - val_loss: 0.0990 - val_accuracy: 0.9694\n",
            "Epoch 15/50\n",
            "58/59 [============================>.] - ETA: 0s - loss: 0.1010 - accuracy: 0.9700\n",
            "Epoch 15: val_accuracy improved from 0.96940 to 0.97200, saving model to best_model.h5\n",
            "59/59 [==============================] - 1s 17ms/step - loss: 0.1012 - accuracy: 0.9699 - val_loss: 0.0961 - val_accuracy: 0.9720\n",
            "Epoch 16/50\n",
            "57/59 [===========================>..] - ETA: 0s - loss: 0.0959 - accuracy: 0.9718\n",
            "Epoch 16: val_accuracy improved from 0.97200 to 0.97220, saving model to best_model.h5\n",
            "59/59 [==============================] - 1s 19ms/step - loss: 0.0957 - accuracy: 0.9719 - val_loss: 0.0933 - val_accuracy: 0.9722\n",
            "Epoch 17/50\n",
            "59/59 [==============================] - ETA: 0s - loss: 0.0930 - accuracy: 0.9726\n",
            "Epoch 17: val_accuracy did not improve from 0.97220\n",
            "59/59 [==============================] - 1s 18ms/step - loss: 0.0930 - accuracy: 0.9726 - val_loss: 0.0914 - val_accuracy: 0.9715\n",
            "Epoch 18/50\n",
            "57/59 [===========================>..] - ETA: 0s - loss: 0.0886 - accuracy: 0.9737\n",
            "Epoch 18: val_accuracy improved from 0.97220 to 0.97390, saving model to best_model.h5\n",
            "59/59 [==============================] - 1s 19ms/step - loss: 0.0888 - accuracy: 0.9737 - val_loss: 0.0873 - val_accuracy: 0.9739\n",
            "Epoch 19/50\n",
            "58/59 [============================>.] - ETA: 0s - loss: 0.0837 - accuracy: 0.9753\n",
            "Epoch 19: val_accuracy did not improve from 0.97390\n",
            "59/59 [==============================] - 1s 18ms/step - loss: 0.0837 - accuracy: 0.9753 - val_loss: 0.0880 - val_accuracy: 0.9736\n",
            "Epoch 20/50\n",
            "57/59 [===========================>..] - ETA: 0s - loss: 0.0800 - accuracy: 0.9768\n",
            "Epoch 20: val_accuracy improved from 0.97390 to 0.97540, saving model to best_model.h5\n",
            "59/59 [==============================] - 2s 26ms/step - loss: 0.0802 - accuracy: 0.9768 - val_loss: 0.0842 - val_accuracy: 0.9754\n",
            "Epoch 21/50\n",
            "58/59 [============================>.] - ETA: 0s - loss: 0.0776 - accuracy: 0.9773\n",
            "Epoch 21: val_accuracy improved from 0.97540 to 0.97580, saving model to best_model.h5\n",
            "59/59 [==============================] - 2s 26ms/step - loss: 0.0777 - accuracy: 0.9773 - val_loss: 0.0830 - val_accuracy: 0.9758\n",
            "Epoch 22/50\n",
            "58/59 [============================>.] - ETA: 0s - loss: 0.0751 - accuracy: 0.9776\n",
            "Epoch 22: val_accuracy improved from 0.97580 to 0.97690, saving model to best_model.h5\n",
            "59/59 [==============================] - 1s 22ms/step - loss: 0.0754 - accuracy: 0.9776 - val_loss: 0.0798 - val_accuracy: 0.9769\n",
            "Epoch 23/50\n",
            "56/59 [===========================>..] - ETA: 0s - loss: 0.0718 - accuracy: 0.9790\n",
            "Epoch 23: val_accuracy did not improve from 0.97690\n",
            "59/59 [==============================] - 1s 16ms/step - loss: 0.0717 - accuracy: 0.9791 - val_loss: 0.0788 - val_accuracy: 0.9761\n",
            "Epoch 24/50\n",
            "56/59 [===========================>..] - ETA: 0s - loss: 0.0678 - accuracy: 0.9804\n",
            "Epoch 24: val_accuracy improved from 0.97690 to 0.97710, saving model to best_model.h5\n",
            "59/59 [==============================] - 1s 18ms/step - loss: 0.0680 - accuracy: 0.9803 - val_loss: 0.0778 - val_accuracy: 0.9771\n",
            "Epoch 25/50\n",
            "56/59 [===========================>..] - ETA: 0s - loss: 0.0654 - accuracy: 0.9805\n",
            "Epoch 25: val_accuracy did not improve from 0.97710\n",
            "59/59 [==============================] - 1s 15ms/step - loss: 0.0654 - accuracy: 0.9804 - val_loss: 0.0781 - val_accuracy: 0.9769\n",
            "Epoch 26/50\n",
            "56/59 [===========================>..] - ETA: 0s - loss: 0.0638 - accuracy: 0.9811\n",
            "Epoch 26: val_accuracy improved from 0.97710 to 0.97730, saving model to best_model.h5\n",
            "59/59 [==============================] - 1s 19ms/step - loss: 0.0634 - accuracy: 0.9813 - val_loss: 0.0747 - val_accuracy: 0.9773\n",
            "Epoch 27/50\n",
            "59/59 [==============================] - ETA: 0s - loss: 0.0594 - accuracy: 0.9826\n",
            "Epoch 27: val_accuracy improved from 0.97730 to 0.97740, saving model to best_model.h5\n",
            "59/59 [==============================] - 1s 17ms/step - loss: 0.0594 - accuracy: 0.9826 - val_loss: 0.0745 - val_accuracy: 0.9774\n",
            "Epoch 28/50\n",
            "57/59 [===========================>..] - ETA: 0s - loss: 0.0578 - accuracy: 0.9827\n",
            "Epoch 28: val_accuracy improved from 0.97740 to 0.97760, saving model to best_model.h5\n",
            "59/59 [==============================] - 1s 19ms/step - loss: 0.0574 - accuracy: 0.9829 - val_loss: 0.0740 - val_accuracy: 0.9776\n",
            "Epoch 29/50\n",
            "58/59 [============================>.] - ETA: 0s - loss: 0.0568 - accuracy: 0.9831\n",
            "Epoch 29: val_accuracy improved from 0.97760 to 0.97810, saving model to best_model.h5\n",
            "59/59 [==============================] - 1s 17ms/step - loss: 0.0566 - accuracy: 0.9831 - val_loss: 0.0724 - val_accuracy: 0.9781\n",
            "Epoch 30/50\n",
            "58/59 [============================>.] - ETA: 0s - loss: 0.0546 - accuracy: 0.9835\n",
            "Epoch 30: val_accuracy did not improve from 0.97810\n",
            "59/59 [==============================] - 1s 16ms/step - loss: 0.0546 - accuracy: 0.9835 - val_loss: 0.0735 - val_accuracy: 0.9781\n",
            "Epoch 31/50\n",
            "56/59 [===========================>..] - ETA: 0s - loss: 0.0536 - accuracy: 0.9839\n",
            "Epoch 31: val_accuracy improved from 0.97810 to 0.97820, saving model to best_model.h5\n",
            "59/59 [==============================] - 1s 16ms/step - loss: 0.0536 - accuracy: 0.9838 - val_loss: 0.0712 - val_accuracy: 0.9782\n",
            "Epoch 32/50\n",
            "57/59 [===========================>..] - ETA: 0s - loss: 0.0504 - accuracy: 0.9853\n",
            "Epoch 32: val_accuracy improved from 0.97820 to 0.97880, saving model to best_model.h5\n",
            "59/59 [==============================] - 1s 22ms/step - loss: 0.0505 - accuracy: 0.9852 - val_loss: 0.0712 - val_accuracy: 0.9788\n",
            "Epoch 33/50\n",
            "57/59 [===========================>..] - ETA: 0s - loss: 0.0496 - accuracy: 0.9854\n",
            "Epoch 33: val_accuracy improved from 0.97880 to 0.97920, saving model to best_model.h5\n",
            "59/59 [==============================] - 2s 26ms/step - loss: 0.0499 - accuracy: 0.9852 - val_loss: 0.0709 - val_accuracy: 0.9792\n",
            "Epoch 34/50\n",
            "56/59 [===========================>..] - ETA: 0s - loss: 0.0486 - accuracy: 0.9855\n",
            "Epoch 34: val_accuracy did not improve from 0.97920\n",
            "59/59 [==============================] - 1s 22ms/step - loss: 0.0486 - accuracy: 0.9854 - val_loss: 0.0697 - val_accuracy: 0.9791\n",
            "Epoch 35/50\n",
            "56/59 [===========================>..] - ETA: 0s - loss: 0.0470 - accuracy: 0.9859\n",
            "Epoch 35: val_accuracy did not improve from 0.97920\n",
            "59/59 [==============================] - 1s 19ms/step - loss: 0.0474 - accuracy: 0.9856 - val_loss: 0.0691 - val_accuracy: 0.9791\n",
            "Epoch 36/50\n",
            "55/59 [==========================>...] - ETA: 0s - loss: 0.0454 - accuracy: 0.9865\n",
            "Epoch 36: val_accuracy did not improve from 0.97920\n",
            "59/59 [==============================] - 1s 16ms/step - loss: 0.0457 - accuracy: 0.9864 - val_loss: 0.0702 - val_accuracy: 0.9786\n",
            "Epoch 37/50\n",
            "58/59 [============================>.] - ETA: 0s - loss: 0.0435 - accuracy: 0.9867\n",
            "Epoch 37: val_accuracy did not improve from 0.97920\n",
            "59/59 [==============================] - 1s 16ms/step - loss: 0.0435 - accuracy: 0.9867 - val_loss: 0.0706 - val_accuracy: 0.9784\n",
            "Epoch 38/50\n",
            "58/59 [============================>.] - ETA: 0s - loss: 0.0426 - accuracy: 0.9872\n",
            "Epoch 38: val_accuracy improved from 0.97920 to 0.97940, saving model to best_model.h5\n",
            "59/59 [==============================] - 1s 16ms/step - loss: 0.0425 - accuracy: 0.9873 - val_loss: 0.0677 - val_accuracy: 0.9794\n",
            "Epoch 39/50\n",
            "56/59 [===========================>..] - ETA: 0s - loss: 0.0403 - accuracy: 0.9879\n",
            "Epoch 39: val_accuracy did not improve from 0.97940\n",
            "59/59 [==============================] - 1s 19ms/step - loss: 0.0408 - accuracy: 0.9877 - val_loss: 0.0690 - val_accuracy: 0.9791\n",
            "Epoch 40/50\n",
            "56/59 [===========================>..] - ETA: 0s - loss: 0.0403 - accuracy: 0.9882\n",
            "Epoch 40: val_accuracy did not improve from 0.97940\n",
            "59/59 [==============================] - 1s 16ms/step - loss: 0.0403 - accuracy: 0.9882 - val_loss: 0.0667 - val_accuracy: 0.9794\n",
            "Epoch 41/50\n",
            "55/59 [==========================>...] - ETA: 0s - loss: 0.0386 - accuracy: 0.9885\n",
            "Epoch 41: val_accuracy improved from 0.97940 to 0.98010, saving model to best_model.h5\n",
            "59/59 [==============================] - 1s 16ms/step - loss: 0.0386 - accuracy: 0.9885 - val_loss: 0.0673 - val_accuracy: 0.9801\n",
            "Epoch 42/50\n",
            "58/59 [============================>.] - ETA: 0s - loss: 0.0379 - accuracy: 0.9889\n",
            "Epoch 42: val_accuracy did not improve from 0.98010\n",
            "59/59 [==============================] - 1s 16ms/step - loss: 0.0381 - accuracy: 0.9887 - val_loss: 0.0660 - val_accuracy: 0.9801\n",
            "Epoch 43/50\n",
            "58/59 [============================>.] - ETA: 0s - loss: 0.0366 - accuracy: 0.9891\n",
            "Epoch 43: val_accuracy improved from 0.98010 to 0.98040, saving model to best_model.h5\n",
            "59/59 [==============================] - 1s 20ms/step - loss: 0.0366 - accuracy: 0.9891 - val_loss: 0.0674 - val_accuracy: 0.9804\n",
            "Epoch 44/50\n",
            "59/59 [==============================] - ETA: 0s - loss: 0.0353 - accuracy: 0.9894\n",
            "Epoch 44: val_accuracy improved from 0.98040 to 0.98050, saving model to best_model.h5\n",
            "59/59 [==============================] - 1s 21ms/step - loss: 0.0353 - accuracy: 0.9894 - val_loss: 0.0672 - val_accuracy: 0.9805\n",
            "Epoch 45/50\n",
            "58/59 [============================>.] - ETA: 0s - loss: 0.0351 - accuracy: 0.9898\n",
            "Epoch 45: val_accuracy did not improve from 0.98050\n",
            "59/59 [==============================] - 2s 26ms/step - loss: 0.0352 - accuracy: 0.9898 - val_loss: 0.0677 - val_accuracy: 0.9796\n",
            "Epoch 46/50\n",
            "58/59 [============================>.] - ETA: 0s - loss: 0.0336 - accuracy: 0.9896\n",
            "Epoch 46: val_accuracy did not improve from 0.98050\n",
            "59/59 [==============================] - 2s 25ms/step - loss: 0.0335 - accuracy: 0.9896 - val_loss: 0.0682 - val_accuracy: 0.9805\n",
            "Epoch 46: early stopping\n"
          ]
        }
      ]
    },
    {
      "cell_type": "markdown",
      "source": [
        "# **6. 학습 결과 테스트**"
      ],
      "metadata": {
        "id": "VJH4jjyitzVu"
      }
    },
    {
      "cell_type": "code",
      "source": [
        "model.evaluate(x_test, y_test)"
      ],
      "metadata": {
        "colab": {
          "base_uri": "https://localhost:8080/"
        },
        "id": "DcsXhDJRt3Pf",
        "outputId": "3d03fb04-0a4b-4796-9d64-0fd73f5ee9d2"
      },
      "execution_count": 35,
      "outputs": [
        {
          "output_type": "stream",
          "name": "stdout",
          "text": [
            "313/313 [==============================] - 1s 2ms/step - loss: 0.0682 - accuracy: 0.9805\n"
          ]
        },
        {
          "output_type": "execute_result",
          "data": {
            "text/plain": [
              "[0.06822363287210464, 0.9804999828338623]"
            ]
          },
          "metadata": {},
          "execution_count": 35
        }
      ]
    },
    {
      "cell_type": "markdown",
      "source": [
        "# **7. 성능 그래프**"
      ],
      "metadata": {
        "id": "K27hivVGuR4h"
      }
    },
    {
      "cell_type": "code",
      "source": [
        "x_range = range(1, len(history.history['accuracy'])+1)"
      ],
      "metadata": {
        "id": "WDABPrCEuSAy"
      },
      "execution_count": 36,
      "outputs": []
    },
    {
      "cell_type": "code",
      "source": [
        "plt.figure(figsize=(10, 6))\n",
        "plt.subplot(221)\n",
        "plt.plot(x_range, history.history['accuracy'], color='red', label='Accuracy')\n",
        "plt.plot(x_range, history.history['val_accuracy'], color='green', label='Validation Accuracy')\n",
        "plt.xlabel('Epochs')\n",
        "plt.ylabel('Accuracy')\n",
        "plt.legend()\n",
        "plt.subplot(222)\n",
        "plt.plot(x_range, history.history['loss'], color='red', label='Loss')\n",
        "plt.plot(x_range, history.history['val_loss'], color='green', label='Validation Loss')\n",
        "plt.xlabel('Epochs')\n",
        "plt.ylabel('Loss')\n",
        "plt.legend()"
      ],
      "metadata": {
        "colab": {
          "base_uri": "https://localhost:8080/",
          "height": 244
        },
        "id": "FRajkCyruSG6",
        "outputId": "de4126bf-f2c0-44ee-fbcc-20766815c7e8"
      },
      "execution_count": 37,
      "outputs": [
        {
          "output_type": "execute_result",
          "data": {
            "text/plain": [
              "<matplotlib.legend.Legend at 0x7aceebef4cd0>"
            ]
          },
          "metadata": {},
          "execution_count": 37
        },
        {
          "output_type": "display_data",
          "data": {
            "text/plain": [
              "<Figure size 1000x600 with 2 Axes>"
            ],
            "image/png": "[encoded data removed]"
          },
          "metadata": {}
        }
      ]
    },
    {
      "cell_type": "markdown",
      "source": [
        "# **8. 실전 테스트: 손글씨 입력해서 분류 잘 하는지 평가**"
      ],
      "metadata": {
        "id": "oSC89MFF6L52"
      }
    },
    {
      "cell_type": "code",
      "source": [
        "x_test[0].shape"
      ],
      "metadata": {
        "colab": {
          "base_uri": "https://localhost:8080/"
        },
        "id": "23BDprh16SWs",
        "outputId": "99ebc18c-3bff-449a-dc88-095d24467fe6"
      },
      "execution_count": 38,
      "outputs": [
        {
          "output_type": "execute_result",
          "data": {
            "text/plain": [
              "(28, 28)"
            ]
          },
          "metadata": {},
          "execution_count": 38
        }
      ]
    },
    {
      "cell_type": "code",
      "source": [
        "n = 0\n",
        "plt.imshow(x_test[n], cmap='gray')\n",
        "plt.show()\n",
        "\n",
        "pred = model.predict(x_test[n].reshape(1, 28, 28))\n",
        "answer = np.argmax(pred, axis=1)\n",
        "\n",
        "print(\"Prediction Probability: \", pred)\n",
        "print(\"The Answer is \", answer)"
      ],
      "metadata": {
        "colab": {
          "base_uri": "https://localhost:8080/",
          "height": 523
        },
        "id": "-pqhlwy31Y22",
        "outputId": "19f0953a-d4a0-4f25-ea0b-b21323768a05"
      },
      "execution_count": 39,
      "outputs": [
        {
          "output_type": "display_data",
          "data": {
            "text/plain": [
              "<Figure size 640x480 with 1 Axes>"
            ],
            "image/png": "[encoded data removed]"
          },
          "metadata": {}
        },
        {
          "output_type": "stream",
          "name": "stdout",
          "text": [
            "1/1 [==============================] - 0s 94ms/step\n",
            "Prediction Probability:  [[5.7626854e-09 3.5749723e-10 5.4049765e-06 2.1659170e-04 4.2732944e-12\n",
            "  6.6473028e-08 2.3678536e-13 9.9977738e-01 3.2196550e-07 2.7848887e-07]]\n",
            "The Answer is  [7]\n"
          ]
        }
      ]
    },
    {
      "cell_type": "markdown",
      "source": [
        "# 내용 정리\n",
        "\n",
        "\n",
        "1.   Keras 손글씨 MNIST Dataset 활용\n",
        "2.   FCNN 모델도 이미지 분류 가능\n",
        "\n",
        "\n",
        "😠 이미지를 1차원으로 받아야 하기에 Flatten() 함수를 사용하여 입력받아야 함\n",
        "\n"
      ],
      "metadata": {
        "id": "7BCJrcwidPC_"
      }
    }
  ]
}